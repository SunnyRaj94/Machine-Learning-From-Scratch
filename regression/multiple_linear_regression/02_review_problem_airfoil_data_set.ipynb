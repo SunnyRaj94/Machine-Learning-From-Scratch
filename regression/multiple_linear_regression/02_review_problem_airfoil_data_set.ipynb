{
 "cells": [
  {
   "cell_type": "markdown",
   "metadata": {},
   "source": [
    "# Multiple Linear Regression"
   ]
  },
  {
   "cell_type": "markdown",
   "metadata": {},
   "source": [
    "problem statement :"
   ]
  },
  {
   "cell_type": "markdown",
   "metadata": {},
   "source": [
    "we have an airfoil data set where target value is pressure \n",
    "we have to predict the pressure output with the help of five feature values"
   ]
  },
  {
   "cell_type": "markdown",
   "metadata": {},
   "source": [
    "#### importing necessary libraries"
   ]
  },
  {
   "cell_type": "code",
   "execution_count": 1,
   "metadata": {},
   "outputs": [
    {
     "data": {
      "text/html": [
       "<div>\n",
       "<style scoped>\n",
       "    .dataframe tbody tr th:only-of-type {\n",
       "        vertical-align: middle;\n",
       "    }\n",
       "\n",
       "    .dataframe tbody tr th {\n",
       "        vertical-align: top;\n",
       "    }\n",
       "\n",
       "    .dataframe thead th {\n",
       "        text-align: right;\n",
       "    }\n",
       "</style>\n",
       "<table border=\"1\" class=\"dataframe\">\n",
       "  <thead>\n",
       "    <tr style=\"text-align: right;\">\n",
       "      <th></th>\n",
       "      <th>Frequency</th>\n",
       "      <th>Angle</th>\n",
       "      <th>Chord_Length</th>\n",
       "      <th>Stream_Velocity</th>\n",
       "      <th>Thickness</th>\n",
       "      <th>Pressure</th>\n",
       "    </tr>\n",
       "  </thead>\n",
       "  <tbody>\n",
       "    <tr>\n",
       "      <th>0</th>\n",
       "      <td>800</td>\n",
       "      <td>0.0</td>\n",
       "      <td>0.3048</td>\n",
       "      <td>71.3</td>\n",
       "      <td>0.002663</td>\n",
       "      <td>126.201</td>\n",
       "    </tr>\n",
       "    <tr>\n",
       "      <th>1</th>\n",
       "      <td>1000</td>\n",
       "      <td>0.0</td>\n",
       "      <td>0.3048</td>\n",
       "      <td>71.3</td>\n",
       "      <td>0.002663</td>\n",
       "      <td>125.201</td>\n",
       "    </tr>\n",
       "    <tr>\n",
       "      <th>2</th>\n",
       "      <td>1250</td>\n",
       "      <td>0.0</td>\n",
       "      <td>0.3048</td>\n",
       "      <td>71.3</td>\n",
       "      <td>0.002663</td>\n",
       "      <td>125.951</td>\n",
       "    </tr>\n",
       "    <tr>\n",
       "      <th>3</th>\n",
       "      <td>1600</td>\n",
       "      <td>0.0</td>\n",
       "      <td>0.3048</td>\n",
       "      <td>71.3</td>\n",
       "      <td>0.002663</td>\n",
       "      <td>127.591</td>\n",
       "    </tr>\n",
       "    <tr>\n",
       "      <th>4</th>\n",
       "      <td>2000</td>\n",
       "      <td>0.0</td>\n",
       "      <td>0.3048</td>\n",
       "      <td>71.3</td>\n",
       "      <td>0.002663</td>\n",
       "      <td>127.461</td>\n",
       "    </tr>\n",
       "  </tbody>\n",
       "</table>\n",
       "</div>"
      ],
      "text/plain": [
       "   Frequency  Angle  Chord_Length  Stream_Velocity  Thickness  Pressure\n",
       "0        800    0.0        0.3048             71.3   0.002663   126.201\n",
       "1       1000    0.0        0.3048             71.3   0.002663   125.201\n",
       "2       1250    0.0        0.3048             71.3   0.002663   125.951\n",
       "3       1600    0.0        0.3048             71.3   0.002663   127.591\n",
       "4       2000    0.0        0.3048             71.3   0.002663   127.461"
      ]
     },
     "execution_count": 1,
     "metadata": {},
     "output_type": "execute_result"
    }
   ],
   "source": [
    "#importing necessary library\n",
    "#importing matplotlib \n",
    "import matplotlib.pyplot as plt\n",
    "#importing pandas \n",
    "import pandas as pd\n",
    "import seaborn as sea\n",
    "#importing numpy\n",
    "import numpy as np\n",
    "#importing math module\n",
    "import math\n",
    "# loading csv data from the file given in the url\n",
    "column_names = ['Frequency','Angle','Chord_Length','Stream_Velocity','Thickness','Pressure']\n",
    "data_set = pd.read_table(\"airfoil_self_noise.dat\",names=column_names)\n",
    "#printing top 5 values of data\n",
    "data_set.head()"
   ]
  },
  {
   "cell_type": "markdown",
   "metadata": {},
   "source": [
    "#### data pre-processing "
   ]
  },
  {
   "cell_type": "code",
   "execution_count": 2,
   "metadata": {},
   "outputs": [
    {
     "name": "stdout",
     "output_type": "stream",
     "text": [
      "<class 'pandas.core.frame.DataFrame'>\n",
      "RangeIndex: 1503 entries, 0 to 1502\n",
      "Data columns (total 6 columns):\n",
      "Frequency          1503 non-null int64\n",
      "Angle              1503 non-null float64\n",
      "Chord_Length       1503 non-null float64\n",
      "Stream_Velocity    1503 non-null float64\n",
      "Thickness          1503 non-null float64\n",
      "Pressure           1503 non-null float64\n",
      "dtypes: float64(5), int64(1)\n",
      "memory usage: 70.6 KB\n"
     ]
    }
   ],
   "source": [
    "#printing info about data\n",
    "data_set.info()"
   ]
  },
  {
   "cell_type": "code",
   "execution_count": 3,
   "metadata": {},
   "outputs": [
    {
     "data": {
      "text/plain": [
       "Frequency          0\n",
       "Angle              0\n",
       "Chord_Length       0\n",
       "Stream_Velocity    0\n",
       "Thickness          0\n",
       "Pressure           0\n",
       "dtype: int64"
      ]
     },
     "execution_count": 3,
     "metadata": {},
     "output_type": "execute_result"
    }
   ],
   "source": [
    "#checking for null values\n",
    "data_set.isnull().sum()"
   ]
  },
  {
   "cell_type": "code",
   "execution_count": 4,
   "metadata": {},
   "outputs": [
    {
     "data": {
      "text/plain": [
       "<matplotlib.axes._subplots.AxesSubplot at 0x7f437bcceba8>"
      ]
     },
     "execution_count": 4,
     "metadata": {},
     "output_type": "execute_result"
    },
    {
     "data": {
      "image/png": "[encoded data removed]",
      "text/plain": [
       "<Figure size 1080x720 with 2 Axes>"
      ]
     },
     "metadata": {
      "needs_background": "light"
     },
     "output_type": "display_data"
    }
   ],
   "source": [
    "#plotting corelation map of data set for better view\n",
    "plt.figure(figsize=(15,10))\n",
    "sea.heatmap(data_set.corr())"
   ]
  },
  {
   "cell_type": "code",
   "execution_count": 5,
   "metadata": {},
   "outputs": [],
   "source": [
    "#as we can see through co relation map \n",
    "#Stream velocity column in not corelated with pressure \n",
    "#dropping stream velocity column\n",
    "data_set = data_set.drop([\"Stream_Velocity\"],axis = 1)"
   ]
  },
  {
   "cell_type": "code",
   "execution_count": 6,
   "metadata": {},
   "outputs": [
    {
     "data": {
      "text/html": [
       "<div>\n",
       "<style scoped>\n",
       "    .dataframe tbody tr th:only-of-type {\n",
       "        vertical-align: middle;\n",
       "    }\n",
       "\n",
       "    .dataframe tbody tr th {\n",
       "        vertical-align: top;\n",
       "    }\n",
       "\n",
       "    .dataframe thead th {\n",
       "        text-align: right;\n",
       "    }\n",
       "</style>\n",
       "<table border=\"1\" class=\"dataframe\">\n",
       "  <thead>\n",
       "    <tr style=\"text-align: right;\">\n",
       "      <th></th>\n",
       "      <th>Frequency</th>\n",
       "      <th>Angle</th>\n",
       "      <th>Chord_Length</th>\n",
       "      <th>Thickness</th>\n",
       "      <th>Pressure</th>\n",
       "    </tr>\n",
       "  </thead>\n",
       "  <tbody>\n",
       "    <tr>\n",
       "      <th>count</th>\n",
       "      <td>1503.000000</td>\n",
       "      <td>1503.000000</td>\n",
       "      <td>1503.000000</td>\n",
       "      <td>1503.000000</td>\n",
       "      <td>1503.000000</td>\n",
       "    </tr>\n",
       "    <tr>\n",
       "      <th>mean</th>\n",
       "      <td>2886.380572</td>\n",
       "      <td>6.782302</td>\n",
       "      <td>0.136548</td>\n",
       "      <td>0.011140</td>\n",
       "      <td>124.835943</td>\n",
       "    </tr>\n",
       "    <tr>\n",
       "      <th>std</th>\n",
       "      <td>3152.573137</td>\n",
       "      <td>5.918128</td>\n",
       "      <td>0.093541</td>\n",
       "      <td>0.013150</td>\n",
       "      <td>6.898657</td>\n",
       "    </tr>\n",
       "    <tr>\n",
       "      <th>min</th>\n",
       "      <td>200.000000</td>\n",
       "      <td>0.000000</td>\n",
       "      <td>0.025400</td>\n",
       "      <td>0.000401</td>\n",
       "      <td>103.380000</td>\n",
       "    </tr>\n",
       "    <tr>\n",
       "      <th>25%</th>\n",
       "      <td>800.000000</td>\n",
       "      <td>2.000000</td>\n",
       "      <td>0.050800</td>\n",
       "      <td>0.002535</td>\n",
       "      <td>120.191000</td>\n",
       "    </tr>\n",
       "    <tr>\n",
       "      <th>50%</th>\n",
       "      <td>1600.000000</td>\n",
       "      <td>5.400000</td>\n",
       "      <td>0.101600</td>\n",
       "      <td>0.004957</td>\n",
       "      <td>125.721000</td>\n",
       "    </tr>\n",
       "    <tr>\n",
       "      <th>75%</th>\n",
       "      <td>4000.000000</td>\n",
       "      <td>9.900000</td>\n",
       "      <td>0.228600</td>\n",
       "      <td>0.015576</td>\n",
       "      <td>129.995500</td>\n",
       "    </tr>\n",
       "    <tr>\n",
       "      <th>max</th>\n",
       "      <td>20000.000000</td>\n",
       "      <td>22.200000</td>\n",
       "      <td>0.304800</td>\n",
       "      <td>0.058411</td>\n",
       "      <td>140.987000</td>\n",
       "    </tr>\n",
       "  </tbody>\n",
       "</table>\n",
       "</div>"
      ],
      "text/plain": [
       "          Frequency        Angle  Chord_Length    Thickness     Pressure\n",
       "count   1503.000000  1503.000000   1503.000000  1503.000000  1503.000000\n",
       "mean    2886.380572     6.782302      0.136548     0.011140   124.835943\n",
       "std     3152.573137     5.918128      0.093541     0.013150     6.898657\n",
       "min      200.000000     0.000000      0.025400     0.000401   103.380000\n",
       "25%      800.000000     2.000000      0.050800     0.002535   120.191000\n",
       "50%     1600.000000     5.400000      0.101600     0.004957   125.721000\n",
       "75%     4000.000000     9.900000      0.228600     0.015576   129.995500\n",
       "max    20000.000000    22.200000      0.304800     0.058411   140.987000"
      ]
     },
     "execution_count": 6,
     "metadata": {},
     "output_type": "execute_result"
    }
   ],
   "source": [
    "#checking variations or description of data set\n",
    "data_set.describe()"
   ]
  },
  {
   "cell_type": "code",
   "execution_count": 7,
   "metadata": {},
   "outputs": [
    {
     "data": {
      "text/plain": [
       "<matplotlib.axes._subplots.AxesSubplot at 0x7f437988fb00>"
      ]
     },
     "execution_count": 7,
     "metadata": {},
     "output_type": "execute_result"
    },
    {
     "data": {
      "image/png": "[encoded data removed]",
      "text/plain": [
       "<Figure size 1080x720 with 1 Axes>"
      ]
     },
     "metadata": {
      "needs_background": "light"
     },
     "output_type": "display_data"
    }
   ],
   "source": [
    "#checking outliers in each column\n",
    "data_set.plot(kind='box',figsize=(15,10))              # observing outliers of each column  "
   ]
  },
  {
   "cell_type": "code",
   "execution_count": 8,
   "metadata": {},
   "outputs": [
    {
     "name": "stderr",
     "output_type": "stream",
     "text": [
      "/home/admin3/.local/lib/python3.6/site-packages/pandas/core/indexing.py:205: SettingWithCopyWarning: \n",
      "A value is trying to be set on a copy of a slice from a DataFrame\n",
      "\n",
      "See the caveats in the documentation: http://pandas.pydata.org/pandas-docs/stable/user_guide/indexing.html#returning-a-view-versus-a-copy\n",
      "  self._setitem_with_indexer(indexer, value)\n"
     ]
    }
   ],
   "source": [
    "#changing outliers values in frequency column with mean of frequencyabs\n",
    "data_set.Frequency.loc[(data_set['Frequency'] > 7500)] = data_set['Frequency'].mean()"
   ]
  },
  {
   "cell_type": "code",
   "execution_count": 9,
   "metadata": {},
   "outputs": [
    {
     "data": {
      "text/plain": [
       "<matplotlib.axes._subplots.AxesSubplot at 0x7f4379ab65c0>"
      ]
     },
     "execution_count": 9,
     "metadata": {},
     "output_type": "execute_result"
    },
    {
     "data": {
      "image/png": "[encoded data removed]",
      "text/plain": [
       "<Figure size 1080x720 with 1 Axes>"
      ]
     },
     "metadata": {
      "needs_background": "light"
     },
     "output_type": "display_data"
    }
   ],
   "source": [
    "#checking outliers in each column\n",
    "data_set.plot(kind='box',figsize=(15,10))              # observing outliers of each column  "
   ]
  },
  {
   "cell_type": "code",
   "execution_count": 10,
   "metadata": {},
   "outputs": [
    {
     "data": {
      "text/plain": [
       "Index(['Frequency', 'Angle', 'Chord_Length', 'Thickness', 'Pressure'], dtype='object')"
      ]
     },
     "execution_count": 10,
     "metadata": {},
     "output_type": "execute_result"
    }
   ],
   "source": [
    "#checking all the column names \n",
    "data_set.columns"
   ]
  },
  {
   "cell_type": "code",
   "execution_count": 11,
   "metadata": {},
   "outputs": [],
   "source": [
    "#performing scaling on data\\\n",
    "#except target \n",
    "column_names=['Frequency', 'Angle', 'Chord_Length', 'Thickness']\n",
    "for col in column_names:\n",
    "    maximum = data_set[col].max()\n",
    "    minimum = data_set[col].min()\n",
    "    mean    = data_set[col].mean()\n",
    "    for index in range(len(data_set[col])):\n",
    "        data_set[col][index]=(data_set[col][index]-mean)  /  (maximum-minimum)\n",
    "        "
   ]
  },
  {
   "cell_type": "code",
   "execution_count": 12,
   "metadata": {},
   "outputs": [
    {
     "data": {
      "text/html": [
       "<div>\n",
       "<style scoped>\n",
       "    .dataframe tbody tr th:only-of-type {\n",
       "        vertical-align: middle;\n",
       "    }\n",
       "\n",
       "    .dataframe tbody tr th {\n",
       "        vertical-align: top;\n",
       "    }\n",
       "\n",
       "    .dataframe thead th {\n",
       "        text-align: right;\n",
       "    }\n",
       "</style>\n",
       "<table border=\"1\" class=\"dataframe\">\n",
       "  <thead>\n",
       "    <tr style=\"text-align: right;\">\n",
       "      <th></th>\n",
       "      <th>Frequency</th>\n",
       "      <th>Angle</th>\n",
       "      <th>Chord_Length</th>\n",
       "      <th>Thickness</th>\n",
       "      <th>Pressure</th>\n",
       "    </tr>\n",
       "  </thead>\n",
       "  <tbody>\n",
       "    <tr>\n",
       "      <th>0</th>\n",
       "      <td>-0.224431</td>\n",
       "      <td>-0.305509</td>\n",
       "      <td>0.60219</td>\n",
       "      <td>-0.14612</td>\n",
       "      <td>126.201</td>\n",
       "    </tr>\n",
       "    <tr>\n",
       "      <th>1</th>\n",
       "      <td>-0.191644</td>\n",
       "      <td>-0.305509</td>\n",
       "      <td>0.60219</td>\n",
       "      <td>-0.14612</td>\n",
       "      <td>125.201</td>\n",
       "    </tr>\n",
       "    <tr>\n",
       "      <th>2</th>\n",
       "      <td>-0.150660</td>\n",
       "      <td>-0.305509</td>\n",
       "      <td>0.60219</td>\n",
       "      <td>-0.14612</td>\n",
       "      <td>125.951</td>\n",
       "    </tr>\n",
       "    <tr>\n",
       "      <th>3</th>\n",
       "      <td>-0.093283</td>\n",
       "      <td>-0.305509</td>\n",
       "      <td>0.60219</td>\n",
       "      <td>-0.14612</td>\n",
       "      <td>127.591</td>\n",
       "    </tr>\n",
       "    <tr>\n",
       "      <th>4</th>\n",
       "      <td>-0.027710</td>\n",
       "      <td>-0.305509</td>\n",
       "      <td>0.60219</td>\n",
       "      <td>-0.14612</td>\n",
       "      <td>127.461</td>\n",
       "    </tr>\n",
       "  </tbody>\n",
       "</table>\n",
       "</div>"
      ],
      "text/plain": [
       "   Frequency     Angle  Chord_Length  Thickness  Pressure\n",
       "0  -0.224431 -0.305509       0.60219   -0.14612   126.201\n",
       "1  -0.191644 -0.305509       0.60219   -0.14612   125.201\n",
       "2  -0.150660 -0.305509       0.60219   -0.14612   125.951\n",
       "3  -0.093283 -0.305509       0.60219   -0.14612   127.591\n",
       "4  -0.027710 -0.305509       0.60219   -0.14612   127.461"
      ]
     },
     "execution_count": 12,
     "metadata": {},
     "output_type": "execute_result"
    }
   ],
   "source": [
    "#displaying top 5 values of dataset\n",
    "data_set.head()"
   ]
  },
  {
   "cell_type": "markdown",
   "metadata": {},
   "source": [
    "#### Splitting train and test data set "
   ]
  },
  {
   "cell_type": "code",
   "execution_count": 13,
   "metadata": {},
   "outputs": [
    {
     "name": "stdout",
     "output_type": "stream",
     "text": [
      "Train set\n",
      "(1052, 5)\n"
     ]
    },
    {
     "data": {
      "text/html": [
       "<div>\n",
       "<style scoped>\n",
       "    .dataframe tbody tr th:only-of-type {\n",
       "        vertical-align: middle;\n",
       "    }\n",
       "\n",
       "    .dataframe tbody tr th {\n",
       "        vertical-align: top;\n",
       "    }\n",
       "\n",
       "    .dataframe thead th {\n",
       "        text-align: right;\n",
       "    }\n",
       "</style>\n",
       "<table border=\"1\" class=\"dataframe\">\n",
       "  <thead>\n",
       "    <tr style=\"text-align: right;\">\n",
       "      <th></th>\n",
       "      <th>Frequency</th>\n",
       "      <th>Angle</th>\n",
       "      <th>Chord_Length</th>\n",
       "      <th>Thickness</th>\n",
       "      <th>Pressure</th>\n",
       "    </tr>\n",
       "  </thead>\n",
       "  <tbody>\n",
       "    <tr>\n",
       "      <th>851</th>\n",
       "      <td>-0.027710</td>\n",
       "      <td>0.198995</td>\n",
       "      <td>-0.306901</td>\n",
       "      <td>0.050545</td>\n",
       "      <td>133.311</td>\n",
       "    </tr>\n",
       "    <tr>\n",
       "      <th>816</th>\n",
       "      <td>0.160815</td>\n",
       "      <td>0.072869</td>\n",
       "      <td>-0.306901</td>\n",
       "      <td>-0.098109</td>\n",
       "      <td>128.402</td>\n",
       "    </tr>\n",
       "    <tr>\n",
       "      <th>919</th>\n",
       "      <td>-0.314595</td>\n",
       "      <td>0.388185</td>\n",
       "      <td>-0.306901</td>\n",
       "      <td>0.307623</td>\n",
       "      <td>121.225</td>\n",
       "    </tr>\n",
       "    <tr>\n",
       "      <th>1042</th>\n",
       "      <td>0.117599</td>\n",
       "      <td>-0.089293</td>\n",
       "      <td>-0.397810</td>\n",
       "      <td>-0.176388</td>\n",
       "      <td>131.346</td>\n",
       "    </tr>\n",
       "    <tr>\n",
       "      <th>581</th>\n",
       "      <td>0.677208</td>\n",
       "      <td>-0.062266</td>\n",
       "      <td>0.056735</td>\n",
       "      <td>-0.108421</td>\n",
       "      <td>116.677</td>\n",
       "    </tr>\n",
       "  </tbody>\n",
       "</table>\n",
       "</div>"
      ],
      "text/plain": [
       "      Frequency     Angle  Chord_Length  Thickness  Pressure\n",
       "851   -0.027710  0.198995     -0.306901   0.050545   133.311\n",
       "816    0.160815  0.072869     -0.306901  -0.098109   128.402\n",
       "919   -0.314595  0.388185     -0.306901   0.307623   121.225\n",
       "1042   0.117599 -0.089293     -0.397810  -0.176388   131.346\n",
       "581    0.677208 -0.062266      0.056735  -0.108421   116.677"
      ]
     },
     "execution_count": 13,
     "metadata": {},
     "output_type": "execute_result"
    }
   ],
   "source": [
    "# Splitting 70 % dataset into train set & 30 % dataset into dataset into test set\n",
    "train = data_set.sample(frac=0.7, random_state=3)   # selecting random 0.7 fraction of dataset as train set   \n",
    "# chossing different random state will give different random rows\n",
    "test = data_set.drop(train.index)            # selecting remaining i.e. 30% as test set\n",
    "#printing shape of train set\n",
    "print('Train set')\n",
    "print(train.shape)\n",
    "#seeing top 5 values of train set\n",
    "train.head()"
   ]
  },
  {
   "cell_type": "code",
   "execution_count": 14,
   "metadata": {},
   "outputs": [
    {
     "name": "stdout",
     "output_type": "stream",
     "text": [
      "Test set\n",
      "(451, 5)\n"
     ]
    },
    {
     "data": {
      "text/html": [
       "<div>\n",
       "<style scoped>\n",
       "    .dataframe tbody tr th:only-of-type {\n",
       "        vertical-align: middle;\n",
       "    }\n",
       "\n",
       "    .dataframe tbody tr th {\n",
       "        vertical-align: top;\n",
       "    }\n",
       "\n",
       "    .dataframe thead th {\n",
       "        text-align: right;\n",
       "    }\n",
       "</style>\n",
       "<table border=\"1\" class=\"dataframe\">\n",
       "  <thead>\n",
       "    <tr style=\"text-align: right;\">\n",
       "      <th></th>\n",
       "      <th>Frequency</th>\n",
       "      <th>Angle</th>\n",
       "      <th>Chord_Length</th>\n",
       "      <th>Thickness</th>\n",
       "      <th>Pressure</th>\n",
       "    </tr>\n",
       "  </thead>\n",
       "  <tbody>\n",
       "    <tr>\n",
       "      <th>2</th>\n",
       "      <td>-0.150660</td>\n",
       "      <td>-0.305509</td>\n",
       "      <td>0.60219</td>\n",
       "      <td>-0.14612</td>\n",
       "      <td>125.951</td>\n",
       "    </tr>\n",
       "    <tr>\n",
       "      <th>9</th>\n",
       "      <td>0.677208</td>\n",
       "      <td>-0.305509</td>\n",
       "      <td>0.60219</td>\n",
       "      <td>-0.14612</td>\n",
       "      <td>119.541</td>\n",
       "    </tr>\n",
       "    <tr>\n",
       "      <th>11</th>\n",
       "      <td>0.117599</td>\n",
       "      <td>-0.305509</td>\n",
       "      <td>0.60219</td>\n",
       "      <td>-0.14612</td>\n",
       "      <td>115.391</td>\n",
       "    </tr>\n",
       "    <tr>\n",
       "      <th>12</th>\n",
       "      <td>0.117599</td>\n",
       "      <td>-0.305509</td>\n",
       "      <td>0.60219</td>\n",
       "      <td>-0.14612</td>\n",
       "      <td>112.241</td>\n",
       "    </tr>\n",
       "    <tr>\n",
       "      <th>13</th>\n",
       "      <td>0.117599</td>\n",
       "      <td>-0.305509</td>\n",
       "      <td>0.60219</td>\n",
       "      <td>-0.14612</td>\n",
       "      <td>108.721</td>\n",
       "    </tr>\n",
       "  </tbody>\n",
       "</table>\n",
       "</div>"
      ],
      "text/plain": [
       "    Frequency     Angle  Chord_Length  Thickness  Pressure\n",
       "2   -0.150660 -0.305509       0.60219   -0.14612   125.951\n",
       "9    0.677208 -0.305509       0.60219   -0.14612   119.541\n",
       "11   0.117599 -0.305509       0.60219   -0.14612   115.391\n",
       "12   0.117599 -0.305509       0.60219   -0.14612   112.241\n",
       "13   0.117599 -0.305509       0.60219   -0.14612   108.721"
      ]
     },
     "execution_count": 14,
     "metadata": {},
     "output_type": "execute_result"
    }
   ],
   "source": [
    "#printing shape and top 5 values of test data set\n",
    "print('Test set')\n",
    "print(test.shape)\n",
    "test.head()"
   ]
  },
  {
   "cell_type": "code",
   "execution_count": 15,
   "metadata": {},
   "outputs": [],
   "source": [
    "total= len(train)                # total records in train set\n",
    "# creating matrix of independent variables\n",
    "#creating numpy array to make calculations faster\n",
    "x_values = np.ones(total)\n",
    "x_values = np.append(x_values, train['Frequency'])\n",
    "x_values = np.append(x_values, train['Angle'])\n",
    "x_values = np.append(x_values, train['Chord_Length'])\n",
    "x_values = np.append(x_values, train['Thickness'])\n",
    "x_values = x_values.reshape(5, total)\n",
    "#train y value\n",
    "y_values = np.array(train['Pressure'])"
   ]
  },
  {
   "cell_type": "code",
   "execution_count": 16,
   "metadata": {},
   "outputs": [],
   "source": [
    "total_test= len(test)                # total records in train set\n",
    "# creating matrix of independent variables\n",
    "#creating numpy array to make calculations faster\n",
    "x_values_test = np.ones(total_test)\n",
    "x_values_test = np.append(x_values_test, test['Frequency'])\n",
    "x_values_test = np.append(x_values_test, test['Angle'])\n",
    "x_values_test = np.append(x_values_test, test['Chord_Length'])\n",
    "x_values_test = np.append(x_values_test, test['Thickness'])\n",
    "x_values_test = x_values_test.reshape(5, total_test)\n",
    "#train y value\n",
    "y_values_test = np.array(test['Pressure'])"
   ]
  },
  {
   "cell_type": "markdown",
   "metadata": {},
   "source": [
    "#### making linear regression model"
   ]
  },
  {
   "cell_type": "code",
   "execution_count": 17,
   "metadata": {},
   "outputs": [],
   "source": [
    "#defining a function for obtaining cost function\n",
    "def cost_function(variation):\n",
    "    return sum((x_values).dot(variation**2))"
   ]
  },
  {
   "cell_type": "code",
   "execution_count": 18,
   "metadata": {},
   "outputs": [],
   "source": [
    "# defining a function to obtain derivative of cost function\n",
    "def derivative_cost_function(variation,row):\n",
    "    m=1052\n",
    "    return ( variation.dot(x_values[row]))  /m"
   ]
  },
  {
   "cell_type": "code",
   "execution_count": 19,
   "metadata": {},
   "outputs": [],
   "source": [
    "# determining a function to obtain theta\n",
    "def obtain_parameters():\n",
    "    #initializing theta values to zero\n",
    "    theta = np.array([0.0,0.0,0.0,0.0,0.0])\n",
    "    alpha =0.01\n",
    "    iterations = 10000\n",
    "    cost=[]\n",
    "    for _ in range(iterations):\n",
    "        pred_y    = theta.dot(x_values)\n",
    "        variation = pred_y - y_values\n",
    "        cost.append(cost_function(variation))\n",
    "        theta_copy = theta\n",
    "        for row in range(0,len(theta)):\n",
    "            theta_copy[row]      = theta_copy[row] - (alpha *  ( derivative_cost_function(variation,row) ) )\n",
    "        theta = theta_copy\n",
    "    return theta,cost,iterations"
   ]
  },
  {
   "cell_type": "code",
   "execution_count": 20,
   "metadata": {},
   "outputs": [],
   "source": [
    "#obtaining theta values\n",
    "theta = obtain_parameters()"
   ]
  },
  {
   "cell_type": "code",
   "execution_count": 21,
   "metadata": {},
   "outputs": [
    {
     "data": {
      "text/plain": [
       "array([125.02566633, -11.40863947,  -5.50892634,  -8.88424554,\n",
       "        -9.75101164])"
      ]
     },
     "execution_count": 21,
     "metadata": {},
     "output_type": "execute_result"
    }
   ],
   "source": [
    "#diaplaying theta\n",
    "theta[0]"
   ]
  },
  {
   "cell_type": "code",
   "execution_count": 22,
   "metadata": {},
   "outputs": [],
   "source": [
    "# calcualting accuracy using absolute error method\n",
    "total_error = abs(theta[0].dot(x_values_test) - y_values_test)/y_values_test\n",
    "#checking accuracy using accuracy formula\n",
    "accuracy = (1- total_error.sum()/len(test))"
   ]
  },
  {
   "cell_type": "code",
   "execution_count": 23,
   "metadata": {},
   "outputs": [
    {
     "data": {
      "text/plain": [
       "96.47479815192617"
      ]
     },
     "execution_count": 23,
     "metadata": {},
     "output_type": "execute_result"
    }
   ],
   "source": [
    "#printing percentage accuracabsy\n",
    "accuracy*100"
   ]
  },
  {
   "cell_type": "code",
   "execution_count": 24,
   "metadata": {},
   "outputs": [],
   "source": [
    "x = [val for val in range(theta[2])]"
   ]
  },
  {
   "cell_type": "code",
   "execution_count": 25,
   "metadata": {},
   "outputs": [
    {
     "data": {
      "text/plain": [
       "[<matplotlib.lines.Line2D at 0x7f437990d860>]"
      ]
     },
     "execution_count": 25,
     "metadata": {},
     "output_type": "execute_result"
    },
    {
     "data": {
      "image/png": "[encoded data removed]",
      "text/plain": [
       "<Figure size 432x288 with 1 Axes>"
      ]
     },
     "metadata": {
      "needs_background": "light"
     },
     "output_type": "display_data"
    }
   ],
   "source": [
    "#plotting graph of cost function graph\n",
    "plt.plot(x,theta[1])"
   ]
  },
  {
   "cell_type": "code",
   "execution_count": null,
   "metadata": {},
   "outputs": [],
   "source": []
  }
 ],
 "metadata": {
  "kernelspec": {
   "display_name": "Python 3",
   "language": "python",
   "name": "python3"
  },
  "language_info": {
   "codemirror_mode": {
    "name": "ipython",
    "version": 3
   },
   "file_extension": ".py",
   "mimetype": "text/x-python",
   "name": "python",
   "nbconvert_exporter": "python",
   "pygments_lexer": "ipython3",
   "version": "3.6.9"
  }
 },
 "nbformat": 4,
 "nbformat_minor": 2
}
