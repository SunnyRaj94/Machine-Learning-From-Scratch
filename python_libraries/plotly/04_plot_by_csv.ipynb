{
 "cells": [
  {
   "cell_type": "markdown",
   "metadata": {},
   "source": [
    "# Plotly Scatterplot"
   ]
  },
  {
   "cell_type": "markdown",
   "metadata": {},
   "source": [
    "problem statement:  Write a program to draw a scatter plot for a given dataset and show datalabels on hover\n",
    "https://raw.githubusercontent.com/plotly/datasets/master/2014_usa_states.csv"
   ]
  },
  {
   "cell_type": "code",
   "execution_count": 10,
   "metadata": {},
   "outputs": [],
   "source": [
    "#importing plotly express for scatterplot\n",
    "import plotly.express as ply\n",
    "#importing numpy\n",
    "import pandas as pd\n",
    "#creating data frame through csv file using panda\n",
    "my_data_frame = pd.read_csv(\"2014_usa_states.csv\")"
   ]
  },
  {
   "cell_type": "code",
   "execution_count": 11,
   "metadata": {},
   "outputs": [
    {
     "data": {
      "application/vnd.plotly.v1+json": {
       "config": {
        "plotlyServerURL": "https://plot.ly"
       },
       "data": [
        {
         "customdata": [
          [
           "AL"
          ]
         ],
         "hoverlabel": {
          "namelength": 0
         },
         "hovertemplate": "State=Alabama<br>Population=%{x}<br>Rank=%{marker.size}<br>Postal=%{customdata[0]}",
         "legendgroup": "State=Alabama",
         "marker": {
          "color": "#636efa",
          "size": [
           1
          ],
          "sizemode": "area",
          "sizeref": 0.13,
          "symbol": "circle"
         },
         "mode": "markers",
         "name": "State=Alabama",
         "showlegend": true,
         "type": "scatter",
         "x": [
          4849377
         ],
         "xaxis": "x",
         "y": [
          1
         ],
         "yaxis": "y"
        },
        {
         "customdata": [
          [
           "AK"
          ]
         ],
         "hoverlabel": {
          "namelength": 0
         },
         "hovertemplate": "State=Alaska<br>Population=%{x}<br>Rank=%{marker.size}<br>Postal=%{customdata[0]}",
         "legendgroup": "State=Alaska",
         "marker": {
          "color": "#EF553B",
          "size": [
           2
          ],
          "sizemode": "area",
          "sizeref": 0.13,
          "symbol": "circle"
         },
         "mode": "markers",
         "name": "State=Alaska",
         "showlegend": true,
         "type": "scatter",
         "x": [
          736732
         ],
         "xaxis": "x",
         "y": [
          2
         ],
         "yaxis": "y"
        },
        {
         "customdata": [
          [
           "AZ"
          ]
         ],
         "hoverlabel": {
          "namelength": 0
         },
         "hovertemplate": "State=Arizona<br>Population=%{x}<br>Rank=%{marker.size}<br>Postal=%{customdata[0]}",
         "legendgroup": "State=Arizona",
         "marker": {
          "color": "#00cc96",
          "size": [
           3
          ],
          "sizemode": "area",
          "sizeref": 0.13,
          "symbol": "circle"
         },
         "mode": "markers",
         "name": "State=Arizona",
         "showlegend": true,
         "type": "scatter",
         "x": [
          6731484
         ],
         "xaxis": "x",
         "y": [
          3
         ],
         "yaxis": "y"
        },
        {
         "customdata": [
          [
           "AR"
          ]
         ],
         "hoverlabel": {
          "namelength": 0
         },
         "hovertemplate": "State=Arkansas<br>Population=%{x}<br>Rank=%{marker.size}<br>Postal=%{customdata[0]}",
         "legendgroup": "State=Arkansas",
         "marker": {
          "color": "#ab63fa",
          "size": [
           4
          ],
          "sizemode": "area",
          "sizeref": 0.13,
          "symbol": "circle"
         },
         "mode": "markers",
         "name": "State=Arkansas",
         "showlegend": true,
         "type": "scatter",
         "x": [
          2966369
         ],
         "xaxis": "x",
         "y": [
          4
         ],
         "yaxis": "y"
        },
        {
         "customdata": [
          [
           "CA"
          ]
         ],
         "hoverlabel": {
          "namelength": 0
         },
         "hovertemplate": "State=California<br>Population=%{x}<br>Rank=%{marker.size}<br>Postal=%{customdata[0]}",
         "legendgroup": "State=California",
         "marker": {
          "color": "#FFA15A",
          "size": [
           5
          ],
          "sizemode": "area",
          "sizeref": 0.13,
          "symbol": "circle"
         },
         "mode": "markers",
         "name": "State=California",
         "showlegend": true,
         "type": "scatter",
         "x": [
          38802500
         ],
         "xaxis": "x",
         "y": [
          5
         ],
         "yaxis": "y"
        },
        {
         "customdata": [
          [
           "CO"
          ]
         ],
         "hoverlabel": {
          "namelength": 0
         },
         "hovertemplate": "State=Colorado<br>Population=%{x}<br>Rank=%{marker.size}<br>Postal=%{customdata[0]}",
         "legendgroup": "State=Colorado",
         "marker": {
          "color": "#19d3f3",
          "size": [
           6
          ],
          "sizemode": "area",
          "sizeref": 0.13,
          "symbol": "circle"
         },
         "mode": "markers",
         "name": "State=Colorado",
         "showlegend": true,
         "type": "scatter",
         "x": [
          5355866
         ],
         "xaxis": "x",
         "y": [
          6
         ],
         "yaxis": "y"
        },
        {
         "customdata": [
          [
           "CT"
          ]
         ],
         "hoverlabel": {
          "namelength": 0
         },
         "hovertemplate": "State=Connecticut<br>Population=%{x}<br>Rank=%{marker.size}<br>Postal=%{customdata[0]}",
         "legendgroup": "State=Connecticut",
         "marker": {
          "color": "#FF6692",
          "size": [
           7
          ],
          "sizemode": "area",
          "sizeref": 0.13,
          "symbol": "circle"
         },
         "mode": "markers",
         "name": "State=Connecticut",
         "showlegend": true,
         "type": "scatter",
         "x": [
          3596677
         ],
         "xaxis": "x",
         "y": [
          7
         ],
         "yaxis": "y"
        },
        {
         "customdata": [
          [
           "DE"
          ]
         ],
         "hoverlabel": {
          "namelength": 0
         },
         "hovertemplate": "State=Delaware<br>Population=%{x}<br>Rank=%{marker.size}<br>Postal=%{customdata[0]}",
         "legendgroup": "State=Delaware",
         "marker": {
          "color": "#B6E880",
          "size": [
           8
          ],
          "sizemode": "area",
          "sizeref": 0.13,
          "symbol": "circle"
         },
         "mode": "markers",
         "name": "State=Delaware",
         "showlegend": true,
         "type": "scatter",
         "x": [
          935614
         ],
         "xaxis": "x",
         "y": [
          8
         ],
         "yaxis": "y"
        },
        {
         "customdata": [
          [
           "DC"
          ]
         ],
         "hoverlabel": {
          "namelength": 0
         },
         "hovertemplate": "State=District of Columbia<br>Population=%{x}<br>Rank=%{marker.size}<br>Postal=%{customdata[0]}",
         "legendgroup": "State=District of Columbia",
         "marker": {
          "color": "#FF97FF",
          "size": [
           9
          ],
          "sizemode": "area",
          "sizeref": 0.13,
          "symbol": "circle"
         },
         "mode": "markers",
         "name": "State=District of Columbia",
         "showlegend": true,
         "type": "scatter",
         "x": [
          658893
         ],
         "xaxis": "x",
         "y": [
          9
         ],
         "yaxis": "y"
        },
        {
         "customdata": [
          [
           "FL"
          ]
         ],
         "hoverlabel": {
          "namelength": 0
         },
         "hovertemplate": "State=Florida<br>Population=%{x}<br>Rank=%{marker.size}<br>Postal=%{customdata[0]}",
         "legendgroup": "State=Florida",
         "marker": {
          "color": "#FECB52",
          "size": [
           10
          ],
          "sizemode": "area",
          "sizeref": 0.13,
          "symbol": "circle"
         },
         "mode": "markers",
         "name": "State=Florida",
         "showlegend": true,
         "type": "scatter",
         "x": [
          19893297
         ],
         "xaxis": "x",
         "y": [
          10
         ],
         "yaxis": "y"
        },
        {
         "customdata": [
          [
           "GA"
          ]
         ],
         "hoverlabel": {
          "namelength": 0
         },
         "hovertemplate": "State=Georgia<br>Population=%{x}<br>Rank=%{marker.size}<br>Postal=%{customdata[0]}",
         "legendgroup": "State=Georgia",
         "marker": {
          "color": "#636efa",
          "size": [
           11
          ],
          "sizemode": "area",
          "sizeref": 0.13,
          "symbol": "circle"
         },
         "mode": "markers",
         "name": "State=Georgia",
         "showlegend": true,
         "type": "scatter",
         "x": [
          10097343
         ],
         "xaxis": "x",
         "y": [
          11
         ],
         "yaxis": "y"
        },
        {
         "customdata": [
          [
           "HI"
          ]
         ],
         "hoverlabel": {
          "namelength": 0
         },
         "hovertemplate": "State=Hawaii<br>Population=%{x}<br>Rank=%{marker.size}<br>Postal=%{customdata[0]}",
         "legendgroup": "State=Hawaii",
         "marker": {
          "color": "#EF553B",
          "size": [
           12
          ],
          "sizemode": "area",
          "sizeref": 0.13,
          "symbol": "circle"
         },
         "mode": "markers",
         "name": "State=Hawaii",
         "showlegend": true,
         "type": "scatter",
         "x": [
          1419561
         ],
         "xaxis": "x",
         "y": [
          12
         ],
         "yaxis": "y"
        },
        {
         "customdata": [
          [
           "ID"
          ]
         ],
         "hoverlabel": {
          "namelength": 0
         },
         "hovertemplate": "State=Idaho<br>Population=%{x}<br>Rank=%{marker.size}<br>Postal=%{customdata[0]}",
         "legendgroup": "State=Idaho",
         "marker": {
          "color": "#00cc96",
          "size": [
           13
          ],
          "sizemode": "area",
          "sizeref": 0.13,
          "symbol": "circle"
         },
         "mode": "markers",
         "name": "State=Idaho",
         "showlegend": true,
         "type": "scatter",
         "x": [
          1634464
         ],
         "xaxis": "x",
         "y": [
          13
         ],
         "yaxis": "y"
        },
        {
         "customdata": [
          [
           "IL"
          ]
         ],
         "hoverlabel": {
          "namelength": 0
         },
         "hovertemplate": "State=Illinois<br>Population=%{x}<br>Rank=%{marker.size}<br>Postal=%{customdata[0]}",
         "legendgroup": "State=Illinois",
         "marker": {
          "color": "#ab63fa",
          "size": [
           14
          ],
          "sizemode": "area",
          "sizeref": 0.13,
          "symbol": "circle"
         },
         "mode": "markers",
         "name": "State=Illinois",
         "showlegend": true,
         "type": "scatter",
         "x": [
          12880580
         ],
         "xaxis": "x",
         "y": [
          14
         ],
         "yaxis": "y"
        },
        {
         "customdata": [
          [
           "IN"
          ]
         ],
         "hoverlabel": {
          "namelength": 0
         },
         "hovertemplate": "State=Indiana<br>Population=%{x}<br>Rank=%{marker.size}<br>Postal=%{customdata[0]}",
         "legendgroup": "State=Indiana",
         "marker": {
          "color": "#FFA15A",
          "size": [
           15
          ],
          "sizemode": "area",
          "sizeref": 0.13,
          "symbol": "circle"
         },
         "mode": "markers",
         "name": "State=Indiana",
         "showlegend": true,
         "type": "scatter",
         "x": [
          6596855
         ],
         "xaxis": "x",
         "y": [
          15
         ],
         "yaxis": "y"
        },
        {
         "customdata": [
          [
           "IA"
          ]
         ],
         "hoverlabel": {
          "namelength": 0
         },
         "hovertemplate": "State=Iowa<br>Population=%{x}<br>Rank=%{marker.size}<br>Postal=%{customdata[0]}",
         "legendgroup": "State=Iowa",
         "marker": {
          "color": "#19d3f3",
          "size": [
           16
          ],
          "sizemode": "area",
          "sizeref": 0.13,
          "symbol": "circle"
         },
         "mode": "markers",
         "name": "State=Iowa",
         "showlegend": true,
         "type": "scatter",
         "x": [
          3107126
         ],
         "xaxis": "x",
         "y": [
          16
         ],
         "yaxis": "y"
        },
        {
         "customdata": [
          [
           "KS"
          ]
         ],
         "hoverlabel": {
          "namelength": 0
         },
         "hovertemplate": "State=Kansas<br>Population=%{x}<br>Rank=%{marker.size}<br>Postal=%{customdata[0]}",
         "legendgroup": "State=Kansas",
         "marker": {
          "color": "#FF6692",
          "size": [
           17
          ],
          "sizemode": "area",
          "sizeref": 0.13,
          "symbol": "circle"
         },
         "mode": "markers",
         "name": "State=Kansas",
         "showlegend": true,
         "type": "scatter",
         "x": [
          2904021
         ],
         "xaxis": "x",
         "y": [
          17
         ],
         "yaxis": "y"
        },
        {
         "customdata": [
          [
           "KY"
          ]
         ],
         "hoverlabel": {
          "namelength": 0
         },
         "hovertemplate": "State=Kentucky<br>Population=%{x}<br>Rank=%{marker.size}<br>Postal=%{customdata[0]}",
         "legendgroup": "State=Kentucky",
         "marker": {
          "color": "#B6E880",
          "size": [
           18
          ],
          "sizemode": "area",
          "sizeref": 0.13,
          "symbol": "circle"
         },
         "mode": "markers",
         "name": "State=Kentucky",
         "showlegend": true,
         "type": "scatter",
         "x": [
          4413457
         ],
         "xaxis": "x",
         "y": [
          18
         ],
         "yaxis": "y"
        },
        {
         "customdata": [
          [
           "LA"
          ]
         ],
         "hoverlabel": {
          "namelength": 0
         },
         "hovertemplate": "State=Louisiana<br>Population=%{x}<br>Rank=%{marker.size}<br>Postal=%{customdata[0]}",
         "legendgroup": "State=Louisiana",
         "marker": {
          "color": "#FF97FF",
          "size": [
           19
          ],
          "sizemode": "area",
          "sizeref": 0.13,
          "symbol": "circle"
         },
         "mode": "markers",
         "name": "State=Louisiana",
         "showlegend": true,
         "type": "scatter",
         "x": [
          4649676
         ],
         "xaxis": "x",
         "y": [
          19
         ],
         "yaxis": "y"
        },
        {
         "customdata": [
          [
           "ME"
          ]
         ],
         "hoverlabel": {
          "namelength": 0
         },
         "hovertemplate": "State=Maine<br>Population=%{x}<br>Rank=%{marker.size}<br>Postal=%{customdata[0]}",
         "legendgroup": "State=Maine",
         "marker": {
          "color": "#FECB52",
          "size": [
           20
          ],
          "sizemode": "area",
          "sizeref": 0.13,
          "symbol": "circle"
         },
         "mode": "markers",
         "name": "State=Maine",
         "showlegend": true,
         "type": "scatter",
         "x": [
          1330089
         ],
         "xaxis": "x",
         "y": [
          20
         ],
         "yaxis": "y"
        },
        {
         "customdata": [
          [
           "MD"
          ]
         ],
         "hoverlabel": {
          "namelength": 0
         },
         "hovertemplate": "State=Maryland<br>Population=%{x}<br>Rank=%{marker.size}<br>Postal=%{customdata[0]}",
         "legendgroup": "State=Maryland",
         "marker": {
          "color": "#636efa",
          "size": [
           21
          ],
          "sizemode": "area",
          "sizeref": 0.13,
          "symbol": "circle"
         },
         "mode": "markers",
         "name": "State=Maryland",
         "showlegend": true,
         "type": "scatter",
         "x": [
          5976407
         ],
         "xaxis": "x",
         "y": [
          21
         ],
         "yaxis": "y"
        },
        {
         "customdata": [
          [
           "MA"
          ]
         ],
         "hoverlabel": {
          "namelength": 0
         },
         "hovertemplate": "State=Massachusetts<br>Population=%{x}<br>Rank=%{marker.size}<br>Postal=%{customdata[0]}",
         "legendgroup": "State=Massachusetts",
         "marker": {
          "color": "#EF553B",
          "size": [
           22
          ],
          "sizemode": "area",
          "sizeref": 0.13,
          "symbol": "circle"
         },
         "mode": "markers",
         "name": "State=Massachusetts",
         "showlegend": true,
         "type": "scatter",
         "x": [
          6745408
         ],
         "xaxis": "x",
         "y": [
          22
         ],
         "yaxis": "y"
        },
        {
         "customdata": [
          [
           "MI"
          ]
         ],
         "hoverlabel": {
          "namelength": 0
         },
         "hovertemplate": "State=Michigan<br>Population=%{x}<br>Rank=%{marker.size}<br>Postal=%{customdata[0]}",
         "legendgroup": "State=Michigan",
         "marker": {
          "color": "#00cc96",
          "size": [
           23
          ],
          "sizemode": "area",
          "sizeref": 0.13,
          "symbol": "circle"
         },
         "mode": "markers",
         "name": "State=Michigan",
         "showlegend": true,
         "type": "scatter",
         "x": [
          9909877
         ],
         "xaxis": "x",
         "y": [
          23
         ],
         "yaxis": "y"
        },
        {
         "customdata": [
          [
           "MN"
          ]
         ],
         "hoverlabel": {
          "namelength": 0
         },
         "hovertemplate": "State=Minnesota<br>Population=%{x}<br>Rank=%{marker.size}<br>Postal=%{customdata[0]}",
         "legendgroup": "State=Minnesota",
         "marker": {
          "color": "#ab63fa",
          "size": [
           24
          ],
          "sizemode": "area",
          "sizeref": 0.13,
          "symbol": "circle"
         },
         "mode": "markers",
         "name": "State=Minnesota",
         "showlegend": true,
         "type": "scatter",
         "x": [
          5457173
         ],
         "xaxis": "x",
         "y": [
          24
         ],
         "yaxis": "y"
        },
        {
         "customdata": [
          [
           "MS"
          ]
         ],
         "hoverlabel": {
          "namelength": 0
         },
         "hovertemplate": "State=Mississippi<br>Population=%{x}<br>Rank=%{marker.size}<br>Postal=%{customdata[0]}",
         "legendgroup": "State=Mississippi",
         "marker": {
          "color": "#FFA15A",
          "size": [
           25
          ],
          "sizemode": "area",
          "sizeref": 0.13,
          "symbol": "circle"
         },
         "mode": "markers",
         "name": "State=Mississippi",
         "showlegend": true,
         "type": "scatter",
         "x": [
          2994079
         ],
         "xaxis": "x",
         "y": [
          25
         ],
         "yaxis": "y"
        },
        {
         "customdata": [
          [
           "MO"
          ]
         ],
         "hoverlabel": {
          "namelength": 0
         },
         "hovertemplate": "State=Missouri<br>Population=%{x}<br>Rank=%{marker.size}<br>Postal=%{customdata[0]}",
         "legendgroup": "State=Missouri",
         "marker": {
          "color": "#19d3f3",
          "size": [
           26
          ],
          "sizemode": "area",
          "sizeref": 0.13,
          "symbol": "circle"
         },
         "mode": "markers",
         "name": "State=Missouri",
         "showlegend": true,
         "type": "scatter",
         "x": [
          6063589
         ],
         "xaxis": "x",
         "y": [
          26
         ],
         "yaxis": "y"
        },
        {
         "customdata": [
          [
           "MT"
          ]
         ],
         "hoverlabel": {
          "namelength": 0
         },
         "hovertemplate": "State=Montana<br>Population=%{x}<br>Rank=%{marker.size}<br>Postal=%{customdata[0]}",
         "legendgroup": "State=Montana",
         "marker": {
          "color": "#FF6692",
          "size": [
           27
          ],
          "sizemode": "area",
          "sizeref": 0.13,
          "symbol": "circle"
         },
         "mode": "markers",
         "name": "State=Montana",
         "showlegend": true,
         "type": "scatter",
         "x": [
          1023579
         ],
         "xaxis": "x",
         "y": [
          27
         ],
         "yaxis": "y"
        },
        {
         "customdata": [
          [
           "NE"
          ]
         ],
         "hoverlabel": {
          "namelength": 0
         },
         "hovertemplate": "State=Nebraska<br>Population=%{x}<br>Rank=%{marker.size}<br>Postal=%{customdata[0]}",
         "legendgroup": "State=Nebraska",
         "marker": {
          "color": "#B6E880",
          "size": [
           28
          ],
          "sizemode": "area",
          "sizeref": 0.13,
          "symbol": "circle"
         },
         "mode": "markers",
         "name": "State=Nebraska",
         "showlegend": true,
         "type": "scatter",
         "x": [
          1881503
         ],
         "xaxis": "x",
         "y": [
          28
         ],
         "yaxis": "y"
        },
        {
         "customdata": [
          [
           "NV"
          ]
         ],
         "hoverlabel": {
          "namelength": 0
         },
         "hovertemplate": "State=Nevada<br>Population=%{x}<br>Rank=%{marker.size}<br>Postal=%{customdata[0]}",
         "legendgroup": "State=Nevada",
         "marker": {
          "color": "#FF97FF",
          "size": [
           29
          ],
          "sizemode": "area",
          "sizeref": 0.13,
          "symbol": "circle"
         },
         "mode": "markers",
         "name": "State=Nevada",
         "showlegend": true,
         "type": "scatter",
         "x": [
          2839098
         ],
         "xaxis": "x",
         "y": [
          29
         ],
         "yaxis": "y"
        },
        {
         "customdata": [
          [
           "NH"
          ]
         ],
         "hoverlabel": {
          "namelength": 0
         },
         "hovertemplate": "State=New Hampshire<br>Population=%{x}<br>Rank=%{marker.size}<br>Postal=%{customdata[0]}",
         "legendgroup": "State=New Hampshire",
         "marker": {
          "color": "#FECB52",
          "size": [
           30
          ],
          "sizemode": "area",
          "sizeref": 0.13,
          "symbol": "circle"
         },
         "mode": "markers",
         "name": "State=New Hampshire",
         "showlegend": true,
         "type": "scatter",
         "x": [
          1326813
         ],
         "xaxis": "x",
         "y": [
          30
         ],
         "yaxis": "y"
        },
        {
         "customdata": [
          [
           "NJ"
          ]
         ],
         "hoverlabel": {
          "namelength": 0
         },
         "hovertemplate": "State=New Jersey<br>Population=%{x}<br>Rank=%{marker.size}<br>Postal=%{customdata[0]}",
         "legendgroup": "State=New Jersey",
         "marker": {
          "color": "#636efa",
          "size": [
           31
          ],
          "sizemode": "area",
          "sizeref": 0.13,
          "symbol": "circle"
         },
         "mode": "markers",
         "name": "State=New Jersey",
         "showlegend": true,
         "type": "scatter",
         "x": [
          8938175
         ],
         "xaxis": "x",
         "y": [
          31
         ],
         "yaxis": "y"
        },
        {
         "customdata": [
          [
           "NM"
          ]
         ],
         "hoverlabel": {
          "namelength": 0
         },
         "hovertemplate": "State=New Mexico<br>Population=%{x}<br>Rank=%{marker.size}<br>Postal=%{customdata[0]}",
         "legendgroup": "State=New Mexico",
         "marker": {
          "color": "#EF553B",
          "size": [
           32
          ],
          "sizemode": "area",
          "sizeref": 0.13,
          "symbol": "circle"
         },
         "mode": "markers",
         "name": "State=New Mexico",
         "showlegend": true,
         "type": "scatter",
         "x": [
          2085572
         ],
         "xaxis": "x",
         "y": [
          32
         ],
         "yaxis": "y"
        },
        {
         "customdata": [
          [
           "NY"
          ]
         ],
         "hoverlabel": {
          "namelength": 0
         },
         "hovertemplate": "State=New York<br>Population=%{x}<br>Rank=%{marker.size}<br>Postal=%{customdata[0]}",
         "legendgroup": "State=New York",
         "marker": {
          "color": "#00cc96",
          "size": [
           33
          ],
          "sizemode": "area",
          "sizeref": 0.13,
          "symbol": "circle"
         },
         "mode": "markers",
         "name": "State=New York",
         "showlegend": true,
         "type": "scatter",
         "x": [
          19746227
         ],
         "xaxis": "x",
         "y": [
          33
         ],
         "yaxis": "y"
        },
        {
         "customdata": [
          [
           "NC"
          ]
         ],
         "hoverlabel": {
          "namelength": 0
         },
         "hovertemplate": "State=North Carolina<br>Population=%{x}<br>Rank=%{marker.size}<br>Postal=%{customdata[0]}",
         "legendgroup": "State=North Carolina",
         "marker": {
          "color": "#ab63fa",
          "size": [
           34
          ],
          "sizemode": "area",
          "sizeref": 0.13,
          "symbol": "circle"
         },
         "mode": "markers",
         "name": "State=North Carolina",
         "showlegend": true,
         "type": "scatter",
         "x": [
          9943964
         ],
         "xaxis": "x",
         "y": [
          34
         ],
         "yaxis": "y"
        },
        {
         "customdata": [
          [
           "ND"
          ]
         ],
         "hoverlabel": {
          "namelength": 0
         },
         "hovertemplate": "State=North Dakota<br>Population=%{x}<br>Rank=%{marker.size}<br>Postal=%{customdata[0]}",
         "legendgroup": "State=North Dakota",
         "marker": {
          "color": "#FFA15A",
          "size": [
           35
          ],
          "sizemode": "area",
          "sizeref": 0.13,
          "symbol": "circle"
         },
         "mode": "markers",
         "name": "State=North Dakota",
         "showlegend": true,
         "type": "scatter",
         "x": [
          739482
         ],
         "xaxis": "x",
         "y": [
          35
         ],
         "yaxis": "y"
        },
        {
         "customdata": [
          [
           "OH"
          ]
         ],
         "hoverlabel": {
          "namelength": 0
         },
         "hovertemplate": "State=Ohio<br>Population=%{x}<br>Rank=%{marker.size}<br>Postal=%{customdata[0]}",
         "legendgroup": "State=Ohio",
         "marker": {
          "color": "#19d3f3",
          "size": [
           36
          ],
          "sizemode": "area",
          "sizeref": 0.13,
          "symbol": "circle"
         },
         "mode": "markers",
         "name": "State=Ohio",
         "showlegend": true,
         "type": "scatter",
         "x": [
          11594163
         ],
         "xaxis": "x",
         "y": [
          36
         ],
         "yaxis": "y"
        },
        {
         "customdata": [
          [
           "OK"
          ]
         ],
         "hoverlabel": {
          "namelength": 0
         },
         "hovertemplate": "State=Oklahoma<br>Population=%{x}<br>Rank=%{marker.size}<br>Postal=%{customdata[0]}",
         "legendgroup": "State=Oklahoma",
         "marker": {
          "color": "#FF6692",
          "size": [
           37
          ],
          "sizemode": "area",
          "sizeref": 0.13,
          "symbol": "circle"
         },
         "mode": "markers",
         "name": "State=Oklahoma",
         "showlegend": true,
         "type": "scatter",
         "x": [
          3878051
         ],
         "xaxis": "x",
         "y": [
          37
         ],
         "yaxis": "y"
        },
        {
         "customdata": [
          [
           "OR"
          ]
         ],
         "hoverlabel": {
          "namelength": 0
         },
         "hovertemplate": "State=Oregon<br>Population=%{x}<br>Rank=%{marker.size}<br>Postal=%{customdata[0]}",
         "legendgroup": "State=Oregon",
         "marker": {
          "color": "#B6E880",
          "size": [
           38
          ],
          "sizemode": "area",
          "sizeref": 0.13,
          "symbol": "circle"
         },
         "mode": "markers",
         "name": "State=Oregon",
         "showlegend": true,
         "type": "scatter",
         "x": [
          3970239
         ],
         "xaxis": "x",
         "y": [
          38
         ],
         "yaxis": "y"
        },
        {
         "customdata": [
          [
           "PA"
          ]
         ],
         "hoverlabel": {
          "namelength": 0
         },
         "hovertemplate": "State=Pennsylvania<br>Population=%{x}<br>Rank=%{marker.size}<br>Postal=%{customdata[0]}",
         "legendgroup": "State=Pennsylvania",
         "marker": {
          "color": "#FF97FF",
          "size": [
           39
          ],
          "sizemode": "area",
          "sizeref": 0.13,
          "symbol": "circle"
         },
         "mode": "markers",
         "name": "State=Pennsylvania",
         "showlegend": true,
         "type": "scatter",
         "x": [
          12787209
         ],
         "xaxis": "x",
         "y": [
          39
         ],
         "yaxis": "y"
        },
        {
         "customdata": [
          [
           "PR"
          ]
         ],
         "hoverlabel": {
          "namelength": 0
         },
         "hovertemplate": "State=Puerto Rico<br>Population=%{x}<br>Rank=%{marker.size}<br>Postal=%{customdata[0]}",
         "legendgroup": "State=Puerto Rico",
         "marker": {
          "color": "#FECB52",
          "size": [
           40
          ],
          "sizemode": "area",
          "sizeref": 0.13,
          "symbol": "circle"
         },
         "mode": "markers",
         "name": "State=Puerto Rico",
         "showlegend": true,
         "type": "scatter",
         "x": [
          3548397
         ],
         "xaxis": "x",
         "y": [
          40
         ],
         "yaxis": "y"
        },
        {
         "customdata": [
          [
           "RI"
          ]
         ],
         "hoverlabel": {
          "namelength": 0
         },
         "hovertemplate": "State=Rhode Island<br>Population=%{x}<br>Rank=%{marker.size}<br>Postal=%{customdata[0]}",
         "legendgroup": "State=Rhode Island",
         "marker": {
          "color": "#636efa",
          "size": [
           41
          ],
          "sizemode": "area",
          "sizeref": 0.13,
          "symbol": "circle"
         },
         "mode": "markers",
         "name": "State=Rhode Island",
         "showlegend": true,
         "type": "scatter",
         "x": [
          1055173
         ],
         "xaxis": "x",
         "y": [
          41
         ],
         "yaxis": "y"
        },
        {
         "customdata": [
          [
           "SC"
          ]
         ],
         "hoverlabel": {
          "namelength": 0
         },
         "hovertemplate": "State=South Carolina<br>Population=%{x}<br>Rank=%{marker.size}<br>Postal=%{customdata[0]}",
         "legendgroup": "State=South Carolina",
         "marker": {
          "color": "#EF553B",
          "size": [
           42
          ],
          "sizemode": "area",
          "sizeref": 0.13,
          "symbol": "circle"
         },
         "mode": "markers",
         "name": "State=South Carolina",
         "showlegend": true,
         "type": "scatter",
         "x": [
          4832482
         ],
         "xaxis": "x",
         "y": [
          42
         ],
         "yaxis": "y"
        },
        {
         "customdata": [
          [
           "SD"
          ]
         ],
         "hoverlabel": {
          "namelength": 0
         },
         "hovertemplate": "State=South Dakota<br>Population=%{x}<br>Rank=%{marker.size}<br>Postal=%{customdata[0]}",
         "legendgroup": "State=South Dakota",
         "marker": {
          "color": "#00cc96",
          "size": [
           43
          ],
          "sizemode": "area",
          "sizeref": 0.13,
          "symbol": "circle"
         },
         "mode": "markers",
         "name": "State=South Dakota",
         "showlegend": true,
         "type": "scatter",
         "x": [
          853175
         ],
         "xaxis": "x",
         "y": [
          43
         ],
         "yaxis": "y"
        },
        {
         "customdata": [
          [
           "TN"
          ]
         ],
         "hoverlabel": {
          "namelength": 0
         },
         "hovertemplate": "State=Tennessee<br>Population=%{x}<br>Rank=%{marker.size}<br>Postal=%{customdata[0]}",
         "legendgroup": "State=Tennessee",
         "marker": {
          "color": "#ab63fa",
          "size": [
           44
          ],
          "sizemode": "area",
          "sizeref": 0.13,
          "symbol": "circle"
         },
         "mode": "markers",
         "name": "State=Tennessee",
         "showlegend": true,
         "type": "scatter",
         "x": [
          6549352
         ],
         "xaxis": "x",
         "y": [
          44
         ],
         "yaxis": "y"
        },
        {
         "customdata": [
          [
           "TX"
          ]
         ],
         "hoverlabel": {
          "namelength": 0
         },
         "hovertemplate": "State=Texas<br>Population=%{x}<br>Rank=%{marker.size}<br>Postal=%{customdata[0]}",
         "legendgroup": "State=Texas",
         "marker": {
          "color": "#FFA15A",
          "size": [
           45
          ],
          "sizemode": "area",
          "sizeref": 0.13,
          "symbol": "circle"
         },
         "mode": "markers",
         "name": "State=Texas",
         "showlegend": true,
         "type": "scatter",
         "x": [
          26956958
         ],
         "xaxis": "x",
         "y": [
          45
         ],
         "yaxis": "y"
        },
        {
         "customdata": [
          [
           "UT"
          ]
         ],
         "hoverlabel": {
          "namelength": 0
         },
         "hovertemplate": "State=Utah<br>Population=%{x}<br>Rank=%{marker.size}<br>Postal=%{customdata[0]}",
         "legendgroup": "State=Utah",
         "marker": {
          "color": "#19d3f3",
          "size": [
           46
          ],
          "sizemode": "area",
          "sizeref": 0.13,
          "symbol": "circle"
         },
         "mode": "markers",
         "name": "State=Utah",
         "showlegend": true,
         "type": "scatter",
         "x": [
          2942902
         ],
         "xaxis": "x",
         "y": [
          46
         ],
         "yaxis": "y"
        },
        {
         "customdata": [
          [
           "VT"
          ]
         ],
         "hoverlabel": {
          "namelength": 0
         },
         "hovertemplate": "State=Vermont<br>Population=%{x}<br>Rank=%{marker.size}<br>Postal=%{customdata[0]}",
         "legendgroup": "State=Vermont",
         "marker": {
          "color": "#FF6692",
          "size": [
           47
          ],
          "sizemode": "area",
          "sizeref": 0.13,
          "symbol": "circle"
         },
         "mode": "markers",
         "name": "State=Vermont",
         "showlegend": true,
         "type": "scatter",
         "x": [
          626562
         ],
         "xaxis": "x",
         "y": [
          47
         ],
         "yaxis": "y"
        },
        {
         "customdata": [
          [
           "VA"
          ]
         ],
         "hoverlabel": {
          "namelength": 0
         },
         "hovertemplate": "State=Virginia<br>Population=%{x}<br>Rank=%{marker.size}<br>Postal=%{customdata[0]}",
         "legendgroup": "State=Virginia",
         "marker": {
          "color": "#B6E880",
          "size": [
           48
          ],
          "sizemode": "area",
          "sizeref": 0.13,
          "symbol": "circle"
         },
         "mode": "markers",
         "name": "State=Virginia",
         "showlegend": true,
         "type": "scatter",
         "x": [
          8326289
         ],
         "xaxis": "x",
         "y": [
          48
         ],
         "yaxis": "y"
        },
        {
         "customdata": [
          [
           "WA"
          ]
         ],
         "hoverlabel": {
          "namelength": 0
         },
         "hovertemplate": "State=Washington<br>Population=%{x}<br>Rank=%{marker.size}<br>Postal=%{customdata[0]}",
         "legendgroup": "State=Washington",
         "marker": {
          "color": "#FF97FF",
          "size": [
           49
          ],
          "sizemode": "area",
          "sizeref": 0.13,
          "symbol": "circle"
         },
         "mode": "markers",
         "name": "State=Washington",
         "showlegend": true,
         "type": "scatter",
         "x": [
          7061530
         ],
         "xaxis": "x",
         "y": [
          49
         ],
         "yaxis": "y"
        },
        {
         "customdata": [
          [
           "WV"
          ]
         ],
         "hoverlabel": {
          "namelength": 0
         },
         "hovertemplate": "State=West Virginia<br>Population=%{x}<br>Rank=%{marker.size}<br>Postal=%{customdata[0]}",
         "legendgroup": "State=West Virginia",
         "marker": {
          "color": "#FECB52",
          "size": [
           50
          ],
          "sizemode": "area",
          "sizeref": 0.13,
          "symbol": "circle"
         },
         "mode": "markers",
         "name": "State=West Virginia",
         "showlegend": true,
         "type": "scatter",
         "x": [
          1850326
         ],
         "xaxis": "x",
         "y": [
          50
         ],
         "yaxis": "y"
        },
        {
         "customdata": [
          [
           "WI"
          ]
         ],
         "hoverlabel": {
          "namelength": 0
         },
         "hovertemplate": "State=Wisconsin<br>Population=%{x}<br>Rank=%{marker.size}<br>Postal=%{customdata[0]}",
         "legendgroup": "State=Wisconsin",
         "marker": {
          "color": "#636efa",
          "size": [
           51
          ],
          "sizemode": "area",
          "sizeref": 0.13,
          "symbol": "circle"
         },
         "mode": "markers",
         "name": "State=Wisconsin",
         "showlegend": true,
         "type": "scatter",
         "x": [
          5757564
         ],
         "xaxis": "x",
         "y": [
          51
         ],
         "yaxis": "y"
        },
        {
         "customdata": [
          [
           "WY"
          ]
         ],
         "hoverlabel": {
          "namelength": 0
         },
         "hovertemplate": "State=Wyoming<br>Population=%{x}<br>Rank=%{marker.size}<br>Postal=%{customdata[0]}",
         "legendgroup": "State=Wyoming",
         "marker": {
          "color": "#EF553B",
          "size": [
           52
          ],
          "sizemode": "area",
          "sizeref": 0.13,
          "symbol": "circle"
         },
         "mode": "markers",
         "name": "State=Wyoming",
         "showlegend": true,
         "type": "scatter",
         "x": [
          584153
         ],
         "xaxis": "x",
         "y": [
          52
         ],
         "yaxis": "y"
        }
       ],
       "layout": {
        "legend": {
         "itemsizing": "constant",
         "tracegroupgap": 0
        },
        "margin": {
         "t": 60
        },
        "template": {
         "data": {
          "bar": [
           {
            "error_x": {
             "color": "#2a3f5f"
            },
            "error_y": {
             "color": "#2a3f5f"
            },
            "marker": {
             "line": {
              "color": "#E5ECF6",
              "width": 0.5
             }
            },
            "type": "bar"
           }
          ],
          "barpolar": [
           {
            "marker": {
             "line": {
              "color": "#E5ECF6",
              "width": 0.5
             }
            },
            "type": "barpolar"
           }
          ],
          "carpet": [
           {
            "aaxis": {
             "endlinecolor": "#2a3f5f",
             "gridcolor": "white",
             "linecolor": "white",
             "minorgridcolor": "white",
             "startlinecolor": "#2a3f5f"
            },
            "baxis": {
             "endlinecolor": "#2a3f5f",
             "gridcolor": "white",
             "linecolor": "white",
             "minorgridcolor": "white",
             "startlinecolor": "#2a3f5f"
            },
            "type": "carpet"
           }
          ],
          "choropleth": [
           {
            "colorbar": {
             "outlinewidth": 0,
             "ticks": ""
            },
            "type": "choropleth"
           }
          ],
          "contour": [
           {
            "colorbar": {
             "outlinewidth": 0,
             "ticks": ""
            },
            "colorscale": [
             [
              0,
              "#0d0887"
             ],
             [
              0.1111111111111111,
              "#46039f"
             ],
             [
              0.2222222222222222,
              "#7201a8"
             ],
             [
              0.3333333333333333,
              "#9c179e"
             ],
             [
              0.4444444444444444,
              "#bd3786"
             ],
             [
              0.5555555555555556,
              "#d8576b"
             ],
             [
              0.6666666666666666,
              "#ed7953"
             ],
             [
              0.7777777777777778,
              "#fb9f3a"
             ],
             [
              0.8888888888888888,
              "#fdca26"
             ],
             [
              1,
              "#f0f921"
             ]
            ],
            "type": "contour"
           }
          ],
          "contourcarpet": [
           {
            "colorbar": {
             "outlinewidth": 0,
             "ticks": ""
            },
            "type": "contourcarpet"
           }
          ],
          "heatmap": [
           {
            "colorbar": {
             "outlinewidth": 0,
             "ticks": ""
            },
            "colorscale": [
             [
              0,
              "#0d0887"
             ],
             [
              0.1111111111111111,
              "#46039f"
             ],
             [
              0.2222222222222222,
              "#7201a8"
             ],
             [
              0.3333333333333333,
              "#9c179e"
             ],
             [
              0.4444444444444444,
              "#bd3786"
             ],
             [
              0.5555555555555556,
              "#d8576b"
             ],
             [
              0.6666666666666666,
              "#ed7953"
             ],
             [
              0.7777777777777778,
              "#fb9f3a"
             ],
             [
              0.8888888888888888,
              "#fdca26"
             ],
             [
              1,
              "#f0f921"
             ]
            ],
            "type": "heatmap"
           }
          ],
          "heatmapgl": [
           {
            "colorbar": {
             "outlinewidth": 0,
             "ticks": ""
            },
            "colorscale": [
             [
              0,
              "#0d0887"
             ],
             [
              0.1111111111111111,
              "#46039f"
             ],
             [
              0.2222222222222222,
              "#7201a8"
             ],
             [
              0.3333333333333333,
              "#9c179e"
             ],
             [
              0.4444444444444444,
              "#bd3786"
             ],
             [
              0.5555555555555556,
              "#d8576b"
             ],
             [
              0.6666666666666666,
              "#ed7953"
             ],
             [
              0.7777777777777778,
              "#fb9f3a"
             ],
             [
              0.8888888888888888,
              "#fdca26"
             ],
             [
              1,
              "#f0f921"
             ]
            ],
            "type": "heatmapgl"
           }
          ],
          "histogram": [
           {
            "marker": {
             "colorbar": {
              "outlinewidth": 0,
              "ticks": ""
             }
            },
            "type": "histogram"
           }
          ],
          "histogram2d": [
           {
            "colorbar": {
             "outlinewidth": 0,
             "ticks": ""
            },
            "colorscale": [
             [
              0,
              "#0d0887"
             ],
             [
              0.1111111111111111,
              "#46039f"
             ],
             [
              0.2222222222222222,
              "#7201a8"
             ],
             [
              0.3333333333333333,
              "#9c179e"
             ],
             [
              0.4444444444444444,
              "#bd3786"
             ],
             [
              0.5555555555555556,
              "#d8576b"
             ],
             [
              0.6666666666666666,
              "#ed7953"
             ],
             [
              0.7777777777777778,
              "#fb9f3a"
             ],
             [
              0.8888888888888888,
              "#fdca26"
             ],
             [
              1,
              "#f0f921"
             ]
            ],
            "type": "histogram2d"
           }
          ],
          "histogram2dcontour": [
           {
            "colorbar": {
             "outlinewidth": 0,
             "ticks": ""
            },
            "colorscale": [
             [
              0,
              "#0d0887"
             ],
             [
              0.1111111111111111,
              "#46039f"
             ],
             [
              0.2222222222222222,
              "#7201a8"
             ],
             [
              0.3333333333333333,
              "#9c179e"
             ],
             [
              0.4444444444444444,
              "#bd3786"
             ],
             [
              0.5555555555555556,
              "#d8576b"
             ],
             [
              0.6666666666666666,
              "#ed7953"
             ],
             [
              0.7777777777777778,
              "#fb9f3a"
             ],
             [
              0.8888888888888888,
              "#fdca26"
             ],
             [
              1,
              "#f0f921"
             ]
            ],
            "type": "histogram2dcontour"
           }
          ],
          "mesh3d": [
           {
            "colorbar": {
             "outlinewidth": 0,
             "ticks": ""
            },
            "type": "mesh3d"
           }
          ],
          "parcoords": [
           {
            "line": {
             "colorbar": {
              "outlinewidth": 0,
              "ticks": ""
             }
            },
            "type": "parcoords"
           }
          ],
          "pie": [
           {
            "automargin": true,
            "type": "pie"
           }
          ],
          "scatter": [
           {
            "marker": {
             "colorbar": {
              "outlinewidth": 0,
              "ticks": ""
             }
            },
            "type": "scatter"
           }
          ],
          "scatter3d": [
           {
            "line": {
             "colorbar": {
              "outlinewidth": 0,
              "ticks": ""
             }
            },
            "marker": {
             "colorbar": {
              "outlinewidth": 0,
              "ticks": ""
             }
            },
            "type": "scatter3d"
           }
          ],
          "scattercarpet": [
           {
            "marker": {
             "colorbar": {
              "outlinewidth": 0,
              "ticks": ""
             }
            },
            "type": "scattercarpet"
           }
          ],
          "scattergeo": [
           {
            "marker": {
             "colorbar": {
              "outlinewidth": 0,
              "ticks": ""
             }
            },
            "type": "scattergeo"
           }
          ],
          "scattergl": [
           {
            "marker": {
             "colorbar": {
              "outlinewidth": 0,
              "ticks": ""
             }
            },
            "type": "scattergl"
           }
          ],
          "scattermapbox": [
           {
            "marker": {
             "colorbar": {
              "outlinewidth": 0,
              "ticks": ""
             }
            },
            "type": "scattermapbox"
           }
          ],
          "scatterpolar": [
           {
            "marker": {
             "colorbar": {
              "outlinewidth": 0,
              "ticks": ""
             }
            },
            "type": "scatterpolar"
           }
          ],
          "scatterpolargl": [
           {
            "marker": {
             "colorbar": {
              "outlinewidth": 0,
              "ticks": ""
             }
            },
            "type": "scatterpolargl"
           }
          ],
          "scatterternary": [
           {
            "marker": {
             "colorbar": {
              "outlinewidth": 0,
              "ticks": ""
             }
            },
            "type": "scatterternary"
           }
          ],
          "surface": [
           {
            "colorbar": {
             "outlinewidth": 0,
             "ticks": ""
            },
            "colorscale": [
             [
              0,
              "#0d0887"
             ],
             [
              0.1111111111111111,
              "#46039f"
             ],
             [
              0.2222222222222222,
              "#7201a8"
             ],
             [
              0.3333333333333333,
              "#9c179e"
             ],
             [
              0.4444444444444444,
              "#bd3786"
             ],
             [
              0.5555555555555556,
              "#d8576b"
             ],
             [
              0.6666666666666666,
              "#ed7953"
             ],
             [
              0.7777777777777778,
              "#fb9f3a"
             ],
             [
              0.8888888888888888,
              "#fdca26"
             ],
             [
              1,
              "#f0f921"
             ]
            ],
            "type": "surface"
           }
          ],
          "table": [
           {
            "cells": {
             "fill": {
              "color": "#EBF0F8"
             },
             "line": {
              "color": "white"
             }
            },
            "header": {
             "fill": {
              "color": "#C8D4E3"
             },
             "line": {
              "color": "white"
             }
            },
            "type": "table"
           }
          ]
         },
         "layout": {
          "annotationdefaults": {
           "arrowcolor": "#2a3f5f",
           "arrowhead": 0,
           "arrowwidth": 1
          },
          "coloraxis": {
           "colorbar": {
            "outlinewidth": 0,
            "ticks": ""
           }
          },
          "colorscale": {
           "diverging": [
            [
             0,
             "#8e0152"
            ],
            [
             0.1,
             "#c51b7d"
            ],
            [
             0.2,
             "#de77ae"
            ],
            [
             0.3,
             "#f1b6da"
            ],
            [
             0.4,
             "#fde0ef"
            ],
            [
             0.5,
             "#f7f7f7"
            ],
            [
             0.6,
             "#e6f5d0"
            ],
            [
             0.7,
             "#b8e186"
            ],
            [
             0.8,
             "#7fbc41"
            ],
            [
             0.9,
             "#4d9221"
            ],
            [
             1,
             "#276419"
            ]
           ],
           "sequential": [
            [
             0,
             "#0d0887"
            ],
            [
             0.1111111111111111,
             "#46039f"
            ],
            [
             0.2222222222222222,
             "#7201a8"
            ],
            [
             0.3333333333333333,
             "#9c179e"
            ],
            [
             0.4444444444444444,
             "#bd3786"
            ],
            [
             0.5555555555555556,
             "#d8576b"
            ],
            [
             0.6666666666666666,
             "#ed7953"
            ],
            [
             0.7777777777777778,
             "#fb9f3a"
            ],
            [
             0.8888888888888888,
             "#fdca26"
            ],
            [
             1,
             "#f0f921"
            ]
           ],
           "sequentialminus": [
            [
             0,
             "#0d0887"
            ],
            [
             0.1111111111111111,
             "#46039f"
            ],
            [
             0.2222222222222222,
             "#7201a8"
            ],
            [
             0.3333333333333333,
             "#9c179e"
            ],
            [
             0.4444444444444444,
             "#bd3786"
            ],
            [
             0.5555555555555556,
             "#d8576b"
            ],
            [
             0.6666666666666666,
             "#ed7953"
            ],
            [
             0.7777777777777778,
             "#fb9f3a"
            ],
            [
             0.8888888888888888,
             "#fdca26"
            ],
            [
             1,
             "#f0f921"
            ]
           ]
          },
          "colorway": [
           "#636efa",
           "#EF553B",
           "#00cc96",
           "#ab63fa",
           "#FFA15A",
           "#19d3f3",
           "#FF6692",
           "#B6E880",
           "#FF97FF",
           "#FECB52"
          ],
          "font": {
           "color": "#2a3f5f"
          },
          "geo": {
           "bgcolor": "white",
           "lakecolor": "white",
           "landcolor": "#E5ECF6",
           "showlakes": true,
           "showland": true,
           "subunitcolor": "white"
          },
          "hoverlabel": {
           "align": "left"
          },
          "hovermode": "closest",
          "mapbox": {
           "style": "light"
          },
          "paper_bgcolor": "white",
          "plot_bgcolor": "#E5ECF6",
          "polar": {
           "angularaxis": {
            "gridcolor": "white",
            "linecolor": "white",
            "ticks": ""
           },
           "bgcolor": "#E5ECF6",
           "radialaxis": {
            "gridcolor": "white",
            "linecolor": "white",
            "ticks": ""
           }
          },
          "scene": {
           "xaxis": {
            "backgroundcolor": "#E5ECF6",
            "gridcolor": "white",
            "gridwidth": 2,
            "linecolor": "white",
            "showbackground": true,
            "ticks": "",
            "zerolinecolor": "white"
           },
           "yaxis": {
            "backgroundcolor": "#E5ECF6",
            "gridcolor": "white",
            "gridwidth": 2,
            "linecolor": "white",
            "showbackground": true,
            "ticks": "",
            "zerolinecolor": "white"
           },
           "zaxis": {
            "backgroundcolor": "#E5ECF6",
            "gridcolor": "white",
            "gridwidth": 2,
            "linecolor": "white",
            "showbackground": true,
            "ticks": "",
            "zerolinecolor": "white"
           }
          },
          "shapedefaults": {
           "line": {
            "color": "#2a3f5f"
           }
          },
          "ternary": {
           "aaxis": {
            "gridcolor": "white",
            "linecolor": "white",
            "ticks": ""
           },
           "baxis": {
            "gridcolor": "white",
            "linecolor": "white",
            "ticks": ""
           },
           "bgcolor": "#E5ECF6",
           "caxis": {
            "gridcolor": "white",
            "linecolor": "white",
            "ticks": ""
           }
          },
          "title": {
           "x": 0.05
          },
          "xaxis": {
           "automargin": true,
           "gridcolor": "white",
           "linecolor": "white",
           "ticks": "",
           "title": {
            "standoff": 15
           },
           "zerolinecolor": "white",
           "zerolinewidth": 2
          },
          "yaxis": {
           "automargin": true,
           "gridcolor": "white",
           "linecolor": "white",
           "ticks": "",
           "title": {
            "standoff": 15
           },
           "zerolinecolor": "white",
           "zerolinewidth": 2
          }
         }
        },
        "xaxis": {
         "anchor": "y",
         "domain": [
          0,
          1
         ],
         "title": {
          "text": "Population"
         }
        },
        "yaxis": {
         "anchor": "x",
         "domain": [
          0,
          1
         ],
         "title": {
          "text": "Rank"
         }
        }
       }
      },
      "text/html": [
       "<div>\n",
       "        \n",
       "        \n",
       "            <div id=\"f0d77262-ddf3-4e1a-9b8a-de6a63e9d67e\" class=\"plotly-graph-div\" style=\"height:525px; width:100%;\"></div>\n",
       "            <script type=\"text/javascript\">\n",
       "                require([\"plotly\"], function(Plotly) {\n",
       "                    window.PLOTLYENV=window.PLOTLYENV || {};\n",
       "                    \n",
       "                if (document.getElementById(\"f0d77262-ddf3-4e1a-9b8a-de6a63e9d67e\")) {\n",
       "                    Plotly.newPlot(\n",
       "                        'f0d77262-ddf3-4e1a-9b8a-de6a63e9d67e',\n",
       "                        [{\"customdata\": [[\"AL\"]], \"hoverlabel\": {\"namelength\": 0}, \"hovertemplate\": \"State=Alabama<br>Population=%{x}<br>Rank=%{marker.size}<br>Postal=%{customdata[0]}\", \"legendgroup\": \"State=Alabama\", \"marker\": {\"color\": \"#636efa\", \"size\": [1], \"sizemode\": \"area\", \"sizeref\": 0.13, \"symbol\": \"circle\"}, \"mode\": \"markers\", \"name\": \"State=Alabama\", \"showlegend\": true, \"type\": \"scatter\", \"x\": [4849377.0], \"xaxis\": \"x\", \"y\": [1], \"yaxis\": \"y\"}, {\"customdata\": [[\"AK\"]], \"hoverlabel\": {\"namelength\": 0}, \"hovertemplate\": \"State=Alaska<br>Population=%{x}<br>Rank=%{marker.size}<br>Postal=%{customdata[0]}\", \"legendgroup\": \"State=Alaska\", \"marker\": {\"color\": \"#EF553B\", \"size\": [2], \"sizemode\": \"area\", \"sizeref\": 0.13, \"symbol\": \"circle\"}, \"mode\": \"markers\", \"name\": \"State=Alaska\", \"showlegend\": true, \"type\": \"scatter\", \"x\": [736732.0], \"xaxis\": \"x\", \"y\": [2], \"yaxis\": \"y\"}, {\"customdata\": [[\"AZ\"]], \"hoverlabel\": {\"namelength\": 0}, \"hovertemplate\": \"State=Arizona<br>Population=%{x}<br>Rank=%{marker.size}<br>Postal=%{customdata[0]}\", \"legendgroup\": \"State=Arizona\", \"marker\": {\"color\": \"#00cc96\", \"size\": [3], \"sizemode\": \"area\", \"sizeref\": 0.13, \"symbol\": \"circle\"}, \"mode\": \"markers\", \"name\": \"State=Arizona\", \"showlegend\": true, \"type\": \"scatter\", \"x\": [6731484.0], \"xaxis\": \"x\", \"y\": [3], \"yaxis\": \"y\"}, {\"customdata\": [[\"AR\"]], \"hoverlabel\": {\"namelength\": 0}, \"hovertemplate\": \"State=Arkansas<br>Population=%{x}<br>Rank=%{marker.size}<br>Postal=%{customdata[0]}\", \"legendgroup\": \"State=Arkansas\", \"marker\": {\"color\": \"#ab63fa\", \"size\": [4], \"sizemode\": \"area\", \"sizeref\": 0.13, \"symbol\": \"circle\"}, \"mode\": \"markers\", \"name\": \"State=Arkansas\", \"showlegend\": true, \"type\": \"scatter\", \"x\": [2966369.0], \"xaxis\": \"x\", \"y\": [4], \"yaxis\": \"y\"}, {\"customdata\": [[\"CA\"]], \"hoverlabel\": {\"namelength\": 0}, \"hovertemplate\": \"State=California<br>Population=%{x}<br>Rank=%{marker.size}<br>Postal=%{customdata[0]}\", \"legendgroup\": \"State=California\", \"marker\": {\"color\": \"#FFA15A\", \"size\": [5], \"sizemode\": \"area\", \"sizeref\": 0.13, \"symbol\": \"circle\"}, \"mode\": \"markers\", \"name\": \"State=California\", \"showlegend\": true, \"type\": \"scatter\", \"x\": [38802500.0], \"xaxis\": \"x\", \"y\": [5], \"yaxis\": \"y\"}, {\"customdata\": [[\"CO\"]], \"hoverlabel\": {\"namelength\": 0}, \"hovertemplate\": \"State=Colorado<br>Population=%{x}<br>Rank=%{marker.size}<br>Postal=%{customdata[0]}\", \"legendgroup\": \"State=Colorado\", \"marker\": {\"color\": \"#19d3f3\", \"size\": [6], \"sizemode\": \"area\", \"sizeref\": 0.13, \"symbol\": \"circle\"}, \"mode\": \"markers\", \"name\": \"State=Colorado\", \"showlegend\": true, \"type\": \"scatter\", \"x\": [5355866.0], \"xaxis\": \"x\", \"y\": [6], \"yaxis\": \"y\"}, {\"customdata\": [[\"CT\"]], \"hoverlabel\": {\"namelength\": 0}, \"hovertemplate\": \"State=Connecticut<br>Population=%{x}<br>Rank=%{marker.size}<br>Postal=%{customdata[0]}\", \"legendgroup\": \"State=Connecticut\", \"marker\": {\"color\": \"#FF6692\", \"size\": [7], \"sizemode\": \"area\", \"sizeref\": 0.13, \"symbol\": \"circle\"}, \"mode\": \"markers\", \"name\": \"State=Connecticut\", \"showlegend\": true, \"type\": \"scatter\", \"x\": [3596677.0], \"xaxis\": \"x\", \"y\": [7], \"yaxis\": \"y\"}, {\"customdata\": [[\"DE\"]], \"hoverlabel\": {\"namelength\": 0}, \"hovertemplate\": \"State=Delaware<br>Population=%{x}<br>Rank=%{marker.size}<br>Postal=%{customdata[0]}\", \"legendgroup\": \"State=Delaware\", \"marker\": {\"color\": \"#B6E880\", \"size\": [8], \"sizemode\": \"area\", \"sizeref\": 0.13, \"symbol\": \"circle\"}, \"mode\": \"markers\", \"name\": \"State=Delaware\", \"showlegend\": true, \"type\": \"scatter\", \"x\": [935614.0], \"xaxis\": \"x\", \"y\": [8], \"yaxis\": \"y\"}, {\"customdata\": [[\"DC\"]], \"hoverlabel\": {\"namelength\": 0}, \"hovertemplate\": \"State=District of Columbia<br>Population=%{x}<br>Rank=%{marker.size}<br>Postal=%{customdata[0]}\", \"legendgroup\": \"State=District of Columbia\", \"marker\": {\"color\": \"#FF97FF\", \"size\": [9], \"sizemode\": \"area\", \"sizeref\": 0.13, \"symbol\": \"circle\"}, \"mode\": \"markers\", \"name\": \"State=District of Columbia\", \"showlegend\": true, \"type\": \"scatter\", \"x\": [658893.0], \"xaxis\": \"x\", \"y\": [9], \"yaxis\": \"y\"}, {\"customdata\": [[\"FL\"]], \"hoverlabel\": {\"namelength\": 0}, \"hovertemplate\": \"State=Florida<br>Population=%{x}<br>Rank=%{marker.size}<br>Postal=%{customdata[0]}\", \"legendgroup\": \"State=Florida\", \"marker\": {\"color\": \"#FECB52\", \"size\": [10], \"sizemode\": \"area\", \"sizeref\": 0.13, \"symbol\": \"circle\"}, \"mode\": \"markers\", \"name\": \"State=Florida\", \"showlegend\": true, \"type\": \"scatter\", \"x\": [19893297.0], \"xaxis\": \"x\", \"y\": [10], \"yaxis\": \"y\"}, {\"customdata\": [[\"GA\"]], \"hoverlabel\": {\"namelength\": 0}, \"hovertemplate\": \"State=Georgia<br>Population=%{x}<br>Rank=%{marker.size}<br>Postal=%{customdata[0]}\", \"legendgroup\": \"State=Georgia\", \"marker\": {\"color\": \"#636efa\", \"size\": [11], \"sizemode\": \"area\", \"sizeref\": 0.13, \"symbol\": \"circle\"}, \"mode\": \"markers\", \"name\": \"State=Georgia\", \"showlegend\": true, \"type\": \"scatter\", \"x\": [10097343.0], \"xaxis\": \"x\", \"y\": [11], \"yaxis\": \"y\"}, {\"customdata\": [[\"HI\"]], \"hoverlabel\": {\"namelength\": 0}, \"hovertemplate\": \"State=Hawaii<br>Population=%{x}<br>Rank=%{marker.size}<br>Postal=%{customdata[0]}\", \"legendgroup\": \"State=Hawaii\", \"marker\": {\"color\": \"#EF553B\", \"size\": [12], \"sizemode\": \"area\", \"sizeref\": 0.13, \"symbol\": \"circle\"}, \"mode\": \"markers\", \"name\": \"State=Hawaii\", \"showlegend\": true, \"type\": \"scatter\", \"x\": [1419561.0], \"xaxis\": \"x\", \"y\": [12], \"yaxis\": \"y\"}, {\"customdata\": [[\"ID\"]], \"hoverlabel\": {\"namelength\": 0}, \"hovertemplate\": \"State=Idaho<br>Population=%{x}<br>Rank=%{marker.size}<br>Postal=%{customdata[0]}\", \"legendgroup\": \"State=Idaho\", \"marker\": {\"color\": \"#00cc96\", \"size\": [13], \"sizemode\": \"area\", \"sizeref\": 0.13, \"symbol\": \"circle\"}, \"mode\": \"markers\", \"name\": \"State=Idaho\", \"showlegend\": true, \"type\": \"scatter\", \"x\": [1634464.0], \"xaxis\": \"x\", \"y\": [13], \"yaxis\": \"y\"}, {\"customdata\": [[\"IL\"]], \"hoverlabel\": {\"namelength\": 0}, \"hovertemplate\": \"State=Illinois<br>Population=%{x}<br>Rank=%{marker.size}<br>Postal=%{customdata[0]}\", \"legendgroup\": \"State=Illinois\", \"marker\": {\"color\": \"#ab63fa\", \"size\": [14], \"sizemode\": \"area\", \"sizeref\": 0.13, \"symbol\": \"circle\"}, \"mode\": \"markers\", \"name\": \"State=Illinois\", \"showlegend\": true, \"type\": \"scatter\", \"x\": [12880580.0], \"xaxis\": \"x\", \"y\": [14], \"yaxis\": \"y\"}, {\"customdata\": [[\"IN\"]], \"hoverlabel\": {\"namelength\": 0}, \"hovertemplate\": \"State=Indiana<br>Population=%{x}<br>Rank=%{marker.size}<br>Postal=%{customdata[0]}\", \"legendgroup\": \"State=Indiana\", \"marker\": {\"color\": \"#FFA15A\", \"size\": [15], \"sizemode\": \"area\", \"sizeref\": 0.13, \"symbol\": \"circle\"}, \"mode\": \"markers\", \"name\": \"State=Indiana\", \"showlegend\": true, \"type\": \"scatter\", \"x\": [6596855.0], \"xaxis\": \"x\", \"y\": [15], \"yaxis\": \"y\"}, {\"customdata\": [[\"IA\"]], \"hoverlabel\": {\"namelength\": 0}, \"hovertemplate\": \"State=Iowa<br>Population=%{x}<br>Rank=%{marker.size}<br>Postal=%{customdata[0]}\", \"legendgroup\": \"State=Iowa\", \"marker\": {\"color\": \"#19d3f3\", \"size\": [16], \"sizemode\": \"area\", \"sizeref\": 0.13, \"symbol\": \"circle\"}, \"mode\": \"markers\", \"name\": \"State=Iowa\", \"showlegend\": true, \"type\": \"scatter\", \"x\": [3107126.0], \"xaxis\": \"x\", \"y\": [16], \"yaxis\": \"y\"}, {\"customdata\": [[\"KS\"]], \"hoverlabel\": {\"namelength\": 0}, \"hovertemplate\": \"State=Kansas<br>Population=%{x}<br>Rank=%{marker.size}<br>Postal=%{customdata[0]}\", \"legendgroup\": \"State=Kansas\", \"marker\": {\"color\": \"#FF6692\", \"size\": [17], \"sizemode\": \"area\", \"sizeref\": 0.13, \"symbol\": \"circle\"}, \"mode\": \"markers\", \"name\": \"State=Kansas\", \"showlegend\": true, \"type\": \"scatter\", \"x\": [2904021.0], \"xaxis\": \"x\", \"y\": [17], \"yaxis\": \"y\"}, {\"customdata\": [[\"KY\"]], \"hoverlabel\": {\"namelength\": 0}, \"hovertemplate\": \"State=Kentucky<br>Population=%{x}<br>Rank=%{marker.size}<br>Postal=%{customdata[0]}\", \"legendgroup\": \"State=Kentucky\", \"marker\": {\"color\": \"#B6E880\", \"size\": [18], \"sizemode\": \"area\", \"sizeref\": 0.13, \"symbol\": \"circle\"}, \"mode\": \"markers\", \"name\": \"State=Kentucky\", \"showlegend\": true, \"type\": \"scatter\", \"x\": [4413457.0], \"xaxis\": \"x\", \"y\": [18], \"yaxis\": \"y\"}, {\"customdata\": [[\"LA\"]], \"hoverlabel\": {\"namelength\": 0}, \"hovertemplate\": \"State=Louisiana<br>Population=%{x}<br>Rank=%{marker.size}<br>Postal=%{customdata[0]}\", \"legendgroup\": \"State=Louisiana\", \"marker\": {\"color\": \"#FF97FF\", \"size\": [19], \"sizemode\": \"area\", \"sizeref\": 0.13, \"symbol\": \"circle\"}, \"mode\": \"markers\", \"name\": \"State=Louisiana\", \"showlegend\": true, \"type\": \"scatter\", \"x\": [4649676.0], \"xaxis\": \"x\", \"y\": [19], \"yaxis\": \"y\"}, {\"customdata\": [[\"ME\"]], \"hoverlabel\": {\"namelength\": 0}, \"hovertemplate\": \"State=Maine<br>Population=%{x}<br>Rank=%{marker.size}<br>Postal=%{customdata[0]}\", \"legendgroup\": \"State=Maine\", \"marker\": {\"color\": \"#FECB52\", \"size\": [20], \"sizemode\": \"area\", \"sizeref\": 0.13, \"symbol\": \"circle\"}, \"mode\": \"markers\", \"name\": \"State=Maine\", \"showlegend\": true, \"type\": \"scatter\", \"x\": [1330089.0], \"xaxis\": \"x\", \"y\": [20], \"yaxis\": \"y\"}, {\"customdata\": [[\"MD\"]], \"hoverlabel\": {\"namelength\": 0}, \"hovertemplate\": \"State=Maryland<br>Population=%{x}<br>Rank=%{marker.size}<br>Postal=%{customdata[0]}\", \"legendgroup\": \"State=Maryland\", \"marker\": {\"color\": \"#636efa\", \"size\": [21], \"sizemode\": \"area\", \"sizeref\": 0.13, \"symbol\": \"circle\"}, \"mode\": \"markers\", \"name\": \"State=Maryland\", \"showlegend\": true, \"type\": \"scatter\", \"x\": [5976407.0], \"xaxis\": \"x\", \"y\": [21], \"yaxis\": \"y\"}, {\"customdata\": [[\"MA\"]], \"hoverlabel\": {\"namelength\": 0}, \"hovertemplate\": \"State=Massachusetts<br>Population=%{x}<br>Rank=%{marker.size}<br>Postal=%{customdata[0]}\", \"legendgroup\": \"State=Massachusetts\", \"marker\": {\"color\": \"#EF553B\", \"size\": [22], \"sizemode\": \"area\", \"sizeref\": 0.13, \"symbol\": \"circle\"}, \"mode\": \"markers\", \"name\": \"State=Massachusetts\", \"showlegend\": true, \"type\": \"scatter\", \"x\": [6745408.0], \"xaxis\": \"x\", \"y\": [22], \"yaxis\": \"y\"}, {\"customdata\": [[\"MI\"]], \"hoverlabel\": {\"namelength\": 0}, \"hovertemplate\": \"State=Michigan<br>Population=%{x}<br>Rank=%{marker.size}<br>Postal=%{customdata[0]}\", \"legendgroup\": \"State=Michigan\", \"marker\": {\"color\": \"#00cc96\", \"size\": [23], \"sizemode\": \"area\", \"sizeref\": 0.13, \"symbol\": \"circle\"}, \"mode\": \"markers\", \"name\": \"State=Michigan\", \"showlegend\": true, \"type\": \"scatter\", \"x\": [9909877.0], \"xaxis\": \"x\", \"y\": [23], \"yaxis\": \"y\"}, {\"customdata\": [[\"MN\"]], \"hoverlabel\": {\"namelength\": 0}, \"hovertemplate\": \"State=Minnesota<br>Population=%{x}<br>Rank=%{marker.size}<br>Postal=%{customdata[0]}\", \"legendgroup\": \"State=Minnesota\", \"marker\": {\"color\": \"#ab63fa\", \"size\": [24], \"sizemode\": \"area\", \"sizeref\": 0.13, \"symbol\": \"circle\"}, \"mode\": \"markers\", \"name\": \"State=Minnesota\", \"showlegend\": true, \"type\": \"scatter\", \"x\": [5457173.0], \"xaxis\": \"x\", \"y\": [24], \"yaxis\": \"y\"}, {\"customdata\": [[\"MS\"]], \"hoverlabel\": {\"namelength\": 0}, \"hovertemplate\": \"State=Mississippi<br>Population=%{x}<br>Rank=%{marker.size}<br>Postal=%{customdata[0]}\", \"legendgroup\": \"State=Mississippi\", \"marker\": {\"color\": \"#FFA15A\", \"size\": [25], \"sizemode\": \"area\", \"sizeref\": 0.13, \"symbol\": \"circle\"}, \"mode\": \"markers\", \"name\": \"State=Mississippi\", \"showlegend\": true, \"type\": \"scatter\", \"x\": [2994079.0], \"xaxis\": \"x\", \"y\": [25], \"yaxis\": \"y\"}, {\"customdata\": [[\"MO\"]], \"hoverlabel\": {\"namelength\": 0}, \"hovertemplate\": \"State=Missouri<br>Population=%{x}<br>Rank=%{marker.size}<br>Postal=%{customdata[0]}\", \"legendgroup\": \"State=Missouri\", \"marker\": {\"color\": \"#19d3f3\", \"size\": [26], \"sizemode\": \"area\", \"sizeref\": 0.13, \"symbol\": \"circle\"}, \"mode\": \"markers\", \"name\": \"State=Missouri\", \"showlegend\": true, \"type\": \"scatter\", \"x\": [6063589.0], \"xaxis\": \"x\", \"y\": [26], \"yaxis\": \"y\"}, {\"customdata\": [[\"MT\"]], \"hoverlabel\": {\"namelength\": 0}, \"hovertemplate\": \"State=Montana<br>Population=%{x}<br>Rank=%{marker.size}<br>Postal=%{customdata[0]}\", \"legendgroup\": \"State=Montana\", \"marker\": {\"color\": \"#FF6692\", \"size\": [27], \"sizemode\": \"area\", \"sizeref\": 0.13, \"symbol\": \"circle\"}, \"mode\": \"markers\", \"name\": \"State=Montana\", \"showlegend\": true, \"type\": \"scatter\", \"x\": [1023579.0], \"xaxis\": \"x\", \"y\": [27], \"yaxis\": \"y\"}, {\"customdata\": [[\"NE\"]], \"hoverlabel\": {\"namelength\": 0}, \"hovertemplate\": \"State=Nebraska<br>Population=%{x}<br>Rank=%{marker.size}<br>Postal=%{customdata[0]}\", \"legendgroup\": \"State=Nebraska\", \"marker\": {\"color\": \"#B6E880\", \"size\": [28], \"sizemode\": \"area\", \"sizeref\": 0.13, \"symbol\": \"circle\"}, \"mode\": \"markers\", \"name\": \"State=Nebraska\", \"showlegend\": true, \"type\": \"scatter\", \"x\": [1881503.0], \"xaxis\": \"x\", \"y\": [28], \"yaxis\": \"y\"}, {\"customdata\": [[\"NV\"]], \"hoverlabel\": {\"namelength\": 0}, \"hovertemplate\": \"State=Nevada<br>Population=%{x}<br>Rank=%{marker.size}<br>Postal=%{customdata[0]}\", \"legendgroup\": \"State=Nevada\", \"marker\": {\"color\": \"#FF97FF\", \"size\": [29], \"sizemode\": \"area\", \"sizeref\": 0.13, \"symbol\": \"circle\"}, \"mode\": \"markers\", \"name\": \"State=Nevada\", \"showlegend\": true, \"type\": \"scatter\", \"x\": [2839098.0], \"xaxis\": \"x\", \"y\": [29], \"yaxis\": \"y\"}, {\"customdata\": [[\"NH\"]], \"hoverlabel\": {\"namelength\": 0}, \"hovertemplate\": \"State=New Hampshire<br>Population=%{x}<br>Rank=%{marker.size}<br>Postal=%{customdata[0]}\", \"legendgroup\": \"State=New Hampshire\", \"marker\": {\"color\": \"#FECB52\", \"size\": [30], \"sizemode\": \"area\", \"sizeref\": 0.13, \"symbol\": \"circle\"}, \"mode\": \"markers\", \"name\": \"State=New Hampshire\", \"showlegend\": true, \"type\": \"scatter\", \"x\": [1326813.0], \"xaxis\": \"x\", \"y\": [30], \"yaxis\": \"y\"}, {\"customdata\": [[\"NJ\"]], \"hoverlabel\": {\"namelength\": 0}, \"hovertemplate\": \"State=New Jersey<br>Population=%{x}<br>Rank=%{marker.size}<br>Postal=%{customdata[0]}\", \"legendgroup\": \"State=New Jersey\", \"marker\": {\"color\": \"#636efa\", \"size\": [31], \"sizemode\": \"area\", \"sizeref\": 0.13, \"symbol\": \"circle\"}, \"mode\": \"markers\", \"name\": \"State=New Jersey\", \"showlegend\": true, \"type\": \"scatter\", \"x\": [8938175.0], \"xaxis\": \"x\", \"y\": [31], \"yaxis\": \"y\"}, {\"customdata\": [[\"NM\"]], \"hoverlabel\": {\"namelength\": 0}, \"hovertemplate\": \"State=New Mexico<br>Population=%{x}<br>Rank=%{marker.size}<br>Postal=%{customdata[0]}\", \"legendgroup\": \"State=New Mexico\", \"marker\": {\"color\": \"#EF553B\", \"size\": [32], \"sizemode\": \"area\", \"sizeref\": 0.13, \"symbol\": \"circle\"}, \"mode\": \"markers\", \"name\": \"State=New Mexico\", \"showlegend\": true, \"type\": \"scatter\", \"x\": [2085572.0], \"xaxis\": \"x\", \"y\": [32], \"yaxis\": \"y\"}, {\"customdata\": [[\"NY\"]], \"hoverlabel\": {\"namelength\": 0}, \"hovertemplate\": \"State=New York<br>Population=%{x}<br>Rank=%{marker.size}<br>Postal=%{customdata[0]}\", \"legendgroup\": \"State=New York\", \"marker\": {\"color\": \"#00cc96\", \"size\": [33], \"sizemode\": \"area\", \"sizeref\": 0.13, \"symbol\": \"circle\"}, \"mode\": \"markers\", \"name\": \"State=New York\", \"showlegend\": true, \"type\": \"scatter\", \"x\": [19746227.0], \"xaxis\": \"x\", \"y\": [33], \"yaxis\": \"y\"}, {\"customdata\": [[\"NC\"]], \"hoverlabel\": {\"namelength\": 0}, \"hovertemplate\": \"State=North Carolina<br>Population=%{x}<br>Rank=%{marker.size}<br>Postal=%{customdata[0]}\", \"legendgroup\": \"State=North Carolina\", \"marker\": {\"color\": \"#ab63fa\", \"size\": [34], \"sizemode\": \"area\", \"sizeref\": 0.13, \"symbol\": \"circle\"}, \"mode\": \"markers\", \"name\": \"State=North Carolina\", \"showlegend\": true, \"type\": \"scatter\", \"x\": [9943964.0], \"xaxis\": \"x\", \"y\": [34], \"yaxis\": \"y\"}, {\"customdata\": [[\"ND\"]], \"hoverlabel\": {\"namelength\": 0}, \"hovertemplate\": \"State=North Dakota<br>Population=%{x}<br>Rank=%{marker.size}<br>Postal=%{customdata[0]}\", \"legendgroup\": \"State=North Dakota\", \"marker\": {\"color\": \"#FFA15A\", \"size\": [35], \"sizemode\": \"area\", \"sizeref\": 0.13, \"symbol\": \"circle\"}, \"mode\": \"markers\", \"name\": \"State=North Dakota\", \"showlegend\": true, \"type\": \"scatter\", \"x\": [739482.0], \"xaxis\": \"x\", \"y\": [35], \"yaxis\": \"y\"}, {\"customdata\": [[\"OH\"]], \"hoverlabel\": {\"namelength\": 0}, \"hovertemplate\": \"State=Ohio<br>Population=%{x}<br>Rank=%{marker.size}<br>Postal=%{customdata[0]}\", \"legendgroup\": \"State=Ohio\", \"marker\": {\"color\": \"#19d3f3\", \"size\": [36], \"sizemode\": \"area\", \"sizeref\": 0.13, \"symbol\": \"circle\"}, \"mode\": \"markers\", \"name\": \"State=Ohio\", \"showlegend\": true, \"type\": \"scatter\", \"x\": [11594163.0], \"xaxis\": \"x\", \"y\": [36], \"yaxis\": \"y\"}, {\"customdata\": [[\"OK\"]], \"hoverlabel\": {\"namelength\": 0}, \"hovertemplate\": \"State=Oklahoma<br>Population=%{x}<br>Rank=%{marker.size}<br>Postal=%{customdata[0]}\", \"legendgroup\": \"State=Oklahoma\", \"marker\": {\"color\": \"#FF6692\", \"size\": [37], \"sizemode\": \"area\", \"sizeref\": 0.13, \"symbol\": \"circle\"}, \"mode\": \"markers\", \"name\": \"State=Oklahoma\", \"showlegend\": true, \"type\": \"scatter\", \"x\": [3878051.0], \"xaxis\": \"x\", \"y\": [37], \"yaxis\": \"y\"}, {\"customdata\": [[\"OR\"]], \"hoverlabel\": {\"namelength\": 0}, \"hovertemplate\": \"State=Oregon<br>Population=%{x}<br>Rank=%{marker.size}<br>Postal=%{customdata[0]}\", \"legendgroup\": \"State=Oregon\", \"marker\": {\"color\": \"#B6E880\", \"size\": [38], \"sizemode\": \"area\", \"sizeref\": 0.13, \"symbol\": \"circle\"}, \"mode\": \"markers\", \"name\": \"State=Oregon\", \"showlegend\": true, \"type\": \"scatter\", \"x\": [3970239.0], \"xaxis\": \"x\", \"y\": [38], \"yaxis\": \"y\"}, {\"customdata\": [[\"PA\"]], \"hoverlabel\": {\"namelength\": 0}, \"hovertemplate\": \"State=Pennsylvania<br>Population=%{x}<br>Rank=%{marker.size}<br>Postal=%{customdata[0]}\", \"legendgroup\": \"State=Pennsylvania\", \"marker\": {\"color\": \"#FF97FF\", \"size\": [39], \"sizemode\": \"area\", \"sizeref\": 0.13, \"symbol\": \"circle\"}, \"mode\": \"markers\", \"name\": \"State=Pennsylvania\", \"showlegend\": true, \"type\": \"scatter\", \"x\": [12787209.0], \"xaxis\": \"x\", \"y\": [39], \"yaxis\": \"y\"}, {\"customdata\": [[\"PR\"]], \"hoverlabel\": {\"namelength\": 0}, \"hovertemplate\": \"State=Puerto Rico<br>Population=%{x}<br>Rank=%{marker.size}<br>Postal=%{customdata[0]}\", \"legendgroup\": \"State=Puerto Rico\", \"marker\": {\"color\": \"#FECB52\", \"size\": [40], \"sizemode\": \"area\", \"sizeref\": 0.13, \"symbol\": \"circle\"}, \"mode\": \"markers\", \"name\": \"State=Puerto Rico\", \"showlegend\": true, \"type\": \"scatter\", \"x\": [3548397.0], \"xaxis\": \"x\", \"y\": [40], \"yaxis\": \"y\"}, {\"customdata\": [[\"RI\"]], \"hoverlabel\": {\"namelength\": 0}, \"hovertemplate\": \"State=Rhode Island<br>Population=%{x}<br>Rank=%{marker.size}<br>Postal=%{customdata[0]}\", \"legendgroup\": \"State=Rhode Island\", \"marker\": {\"color\": \"#636efa\", \"size\": [41], \"sizemode\": \"area\", \"sizeref\": 0.13, \"symbol\": \"circle\"}, \"mode\": \"markers\", \"name\": \"State=Rhode Island\", \"showlegend\": true, \"type\": \"scatter\", \"x\": [1055173.0], \"xaxis\": \"x\", \"y\": [41], \"yaxis\": \"y\"}, {\"customdata\": [[\"SC\"]], \"hoverlabel\": {\"namelength\": 0}, \"hovertemplate\": \"State=South Carolina<br>Population=%{x}<br>Rank=%{marker.size}<br>Postal=%{customdata[0]}\", \"legendgroup\": \"State=South Carolina\", \"marker\": {\"color\": \"#EF553B\", \"size\": [42], \"sizemode\": \"area\", \"sizeref\": 0.13, \"symbol\": \"circle\"}, \"mode\": \"markers\", \"name\": \"State=South Carolina\", \"showlegend\": true, \"type\": \"scatter\", \"x\": [4832482.0], \"xaxis\": \"x\", \"y\": [42], \"yaxis\": \"y\"}, {\"customdata\": [[\"SD\"]], \"hoverlabel\": {\"namelength\": 0}, \"hovertemplate\": \"State=South Dakota<br>Population=%{x}<br>Rank=%{marker.size}<br>Postal=%{customdata[0]}\", \"legendgroup\": \"State=South Dakota\", \"marker\": {\"color\": \"#00cc96\", \"size\": [43], \"sizemode\": \"area\", \"sizeref\": 0.13, \"symbol\": \"circle\"}, \"mode\": \"markers\", \"name\": \"State=South Dakota\", \"showlegend\": true, \"type\": \"scatter\", \"x\": [853175.0], \"xaxis\": \"x\", \"y\": [43], \"yaxis\": \"y\"}, {\"customdata\": [[\"TN\"]], \"hoverlabel\": {\"namelength\": 0}, \"hovertemplate\": \"State=Tennessee<br>Population=%{x}<br>Rank=%{marker.size}<br>Postal=%{customdata[0]}\", \"legendgroup\": \"State=Tennessee\", \"marker\": {\"color\": \"#ab63fa\", \"size\": [44], \"sizemode\": \"area\", \"sizeref\": 0.13, \"symbol\": \"circle\"}, \"mode\": \"markers\", \"name\": \"State=Tennessee\", \"showlegend\": true, \"type\": \"scatter\", \"x\": [6549352.0], \"xaxis\": \"x\", \"y\": [44], \"yaxis\": \"y\"}, {\"customdata\": [[\"TX\"]], \"hoverlabel\": {\"namelength\": 0}, \"hovertemplate\": \"State=Texas<br>Population=%{x}<br>Rank=%{marker.size}<br>Postal=%{customdata[0]}\", \"legendgroup\": \"State=Texas\", \"marker\": {\"color\": \"#FFA15A\", \"size\": [45], \"sizemode\": \"area\", \"sizeref\": 0.13, \"symbol\": \"circle\"}, \"mode\": \"markers\", \"name\": \"State=Texas\", \"showlegend\": true, \"type\": \"scatter\", \"x\": [26956958.0], \"xaxis\": \"x\", \"y\": [45], \"yaxis\": \"y\"}, {\"customdata\": [[\"UT\"]], \"hoverlabel\": {\"namelength\": 0}, \"hovertemplate\": \"State=Utah<br>Population=%{x}<br>Rank=%{marker.size}<br>Postal=%{customdata[0]}\", \"legendgroup\": \"State=Utah\", \"marker\": {\"color\": \"#19d3f3\", \"size\": [46], \"sizemode\": \"area\", \"sizeref\": 0.13, \"symbol\": \"circle\"}, \"mode\": \"markers\", \"name\": \"State=Utah\", \"showlegend\": true, \"type\": \"scatter\", \"x\": [2942902.0], \"xaxis\": \"x\", \"y\": [46], \"yaxis\": \"y\"}, {\"customdata\": [[\"VT\"]], \"hoverlabel\": {\"namelength\": 0}, \"hovertemplate\": \"State=Vermont<br>Population=%{x}<br>Rank=%{marker.size}<br>Postal=%{customdata[0]}\", \"legendgroup\": \"State=Vermont\", \"marker\": {\"color\": \"#FF6692\", \"size\": [47], \"sizemode\": \"area\", \"sizeref\": 0.13, \"symbol\": \"circle\"}, \"mode\": \"markers\", \"name\": \"State=Vermont\", \"showlegend\": true, \"type\": \"scatter\", \"x\": [626562.0], \"xaxis\": \"x\", \"y\": [47], \"yaxis\": \"y\"}, {\"customdata\": [[\"VA\"]], \"hoverlabel\": {\"namelength\": 0}, \"hovertemplate\": \"State=Virginia<br>Population=%{x}<br>Rank=%{marker.size}<br>Postal=%{customdata[0]}\", \"legendgroup\": \"State=Virginia\", \"marker\": {\"color\": \"#B6E880\", \"size\": [48], \"sizemode\": \"area\", \"sizeref\": 0.13, \"symbol\": \"circle\"}, \"mode\": \"markers\", \"name\": \"State=Virginia\", \"showlegend\": true, \"type\": \"scatter\", \"x\": [8326289.0], \"xaxis\": \"x\", \"y\": [48], \"yaxis\": \"y\"}, {\"customdata\": [[\"WA\"]], \"hoverlabel\": {\"namelength\": 0}, \"hovertemplate\": \"State=Washington<br>Population=%{x}<br>Rank=%{marker.size}<br>Postal=%{customdata[0]}\", \"legendgroup\": \"State=Washington\", \"marker\": {\"color\": \"#FF97FF\", \"size\": [49], \"sizemode\": \"area\", \"sizeref\": 0.13, \"symbol\": \"circle\"}, \"mode\": \"markers\", \"name\": \"State=Washington\", \"showlegend\": true, \"type\": \"scatter\", \"x\": [7061530.0], \"xaxis\": \"x\", \"y\": [49], \"yaxis\": \"y\"}, {\"customdata\": [[\"WV\"]], \"hoverlabel\": {\"namelength\": 0}, \"hovertemplate\": \"State=West Virginia<br>Population=%{x}<br>Rank=%{marker.size}<br>Postal=%{customdata[0]}\", \"legendgroup\": \"State=West Virginia\", \"marker\": {\"color\": \"#FECB52\", \"size\": [50], \"sizemode\": \"area\", \"sizeref\": 0.13, \"symbol\": \"circle\"}, \"mode\": \"markers\", \"name\": \"State=West Virginia\", \"showlegend\": true, \"type\": \"scatter\", \"x\": [1850326.0], \"xaxis\": \"x\", \"y\": [50], \"yaxis\": \"y\"}, {\"customdata\": [[\"WI\"]], \"hoverlabel\": {\"namelength\": 0}, \"hovertemplate\": \"State=Wisconsin<br>Population=%{x}<br>Rank=%{marker.size}<br>Postal=%{customdata[0]}\", \"legendgroup\": \"State=Wisconsin\", \"marker\": {\"color\": \"#636efa\", \"size\": [51], \"sizemode\": \"area\", \"sizeref\": 0.13, \"symbol\": \"circle\"}, \"mode\": \"markers\", \"name\": \"State=Wisconsin\", \"showlegend\": true, \"type\": \"scatter\", \"x\": [5757564.0], \"xaxis\": \"x\", \"y\": [51], \"yaxis\": \"y\"}, {\"customdata\": [[\"WY\"]], \"hoverlabel\": {\"namelength\": 0}, \"hovertemplate\": \"State=Wyoming<br>Population=%{x}<br>Rank=%{marker.size}<br>Postal=%{customdata[0]}\", \"legendgroup\": \"State=Wyoming\", \"marker\": {\"color\": \"#EF553B\", \"size\": [52], \"sizemode\": \"area\", \"sizeref\": 0.13, \"symbol\": \"circle\"}, \"mode\": \"markers\", \"name\": \"State=Wyoming\", \"showlegend\": true, \"type\": \"scatter\", \"x\": [584153.0], \"xaxis\": \"x\", \"y\": [52], \"yaxis\": \"y\"}],\n",
       "                        {\"legend\": {\"itemsizing\": \"constant\", \"tracegroupgap\": 0}, \"margin\": {\"t\": 60}, \"template\": {\"data\": {\"bar\": [{\"error_x\": {\"color\": \"#2a3f5f\"}, \"error_y\": {\"color\": \"#2a3f5f\"}, \"marker\": {\"line\": {\"color\": \"#E5ECF6\", \"width\": 0.5}}, \"type\": \"bar\"}], \"barpolar\": [{\"marker\": {\"line\": {\"color\": \"#E5ECF6\", \"width\": 0.5}}, \"type\": \"barpolar\"}], \"carpet\": [{\"aaxis\": {\"endlinecolor\": \"#2a3f5f\", \"gridcolor\": \"white\", \"linecolor\": \"white\", \"minorgridcolor\": \"white\", \"startlinecolor\": \"#2a3f5f\"}, \"baxis\": {\"endlinecolor\": \"#2a3f5f\", \"gridcolor\": \"white\", \"linecolor\": \"white\", \"minorgridcolor\": \"white\", \"startlinecolor\": \"#2a3f5f\"}, \"type\": \"carpet\"}], \"choropleth\": [{\"colorbar\": {\"outlinewidth\": 0, \"ticks\": \"\"}, \"type\": \"choropleth\"}], \"contour\": [{\"colorbar\": {\"outlinewidth\": 0, \"ticks\": \"\"}, \"colorscale\": [[0.0, \"#0d0887\"], [0.1111111111111111, \"#46039f\"], [0.2222222222222222, \"#7201a8\"], [0.3333333333333333, \"#9c179e\"], [0.4444444444444444, \"#bd3786\"], [0.5555555555555556, \"#d8576b\"], [0.6666666666666666, \"#ed7953\"], [0.7777777777777778, \"#fb9f3a\"], [0.8888888888888888, \"#fdca26\"], [1.0, \"#f0f921\"]], \"type\": \"contour\"}], \"contourcarpet\": [{\"colorbar\": {\"outlinewidth\": 0, \"ticks\": \"\"}, \"type\": \"contourcarpet\"}], \"heatmap\": [{\"colorbar\": {\"outlinewidth\": 0, \"ticks\": \"\"}, \"colorscale\": [[0.0, \"#0d0887\"], [0.1111111111111111, \"#46039f\"], [0.2222222222222222, \"#7201a8\"], [0.3333333333333333, \"#9c179e\"], [0.4444444444444444, \"#bd3786\"], [0.5555555555555556, \"#d8576b\"], [0.6666666666666666, \"#ed7953\"], [0.7777777777777778, \"#fb9f3a\"], [0.8888888888888888, \"#fdca26\"], [1.0, \"#f0f921\"]], \"type\": \"heatmap\"}], \"heatmapgl\": [{\"colorbar\": {\"outlinewidth\": 0, \"ticks\": \"\"}, \"colorscale\": [[0.0, \"#0d0887\"], [0.1111111111111111, \"#46039f\"], [0.2222222222222222, \"#7201a8\"], [0.3333333333333333, \"#9c179e\"], [0.4444444444444444, \"#bd3786\"], [0.5555555555555556, \"#d8576b\"], [0.6666666666666666, \"#ed7953\"], [0.7777777777777778, \"#fb9f3a\"], [0.8888888888888888, \"#fdca26\"], [1.0, \"#f0f921\"]], \"type\": \"heatmapgl\"}], \"histogram\": [{\"marker\": {\"colorbar\": {\"outlinewidth\": 0, \"ticks\": \"\"}}, \"type\": \"histogram\"}], \"histogram2d\": [{\"colorbar\": {\"outlinewidth\": 0, \"ticks\": \"\"}, \"colorscale\": [[0.0, \"#0d0887\"], [0.1111111111111111, \"#46039f\"], [0.2222222222222222, \"#7201a8\"], [0.3333333333333333, \"#9c179e\"], [0.4444444444444444, \"#bd3786\"], [0.5555555555555556, \"#d8576b\"], [0.6666666666666666, \"#ed7953\"], [0.7777777777777778, \"#fb9f3a\"], [0.8888888888888888, \"#fdca26\"], [1.0, \"#f0f921\"]], \"type\": \"histogram2d\"}], \"histogram2dcontour\": [{\"colorbar\": {\"outlinewidth\": 0, \"ticks\": \"\"}, \"colorscale\": [[0.0, \"#0d0887\"], [0.1111111111111111, \"#46039f\"], [0.2222222222222222, \"#7201a8\"], [0.3333333333333333, \"#9c179e\"], [0.4444444444444444, \"#bd3786\"], [0.5555555555555556, \"#d8576b\"], [0.6666666666666666, \"#ed7953\"], [0.7777777777777778, \"#fb9f3a\"], [0.8888888888888888, \"#fdca26\"], [1.0, \"#f0f921\"]], \"type\": \"histogram2dcontour\"}], \"mesh3d\": [{\"colorbar\": {\"outlinewidth\": 0, \"ticks\": \"\"}, \"type\": \"mesh3d\"}], \"parcoords\": [{\"line\": {\"colorbar\": {\"outlinewidth\": 0, \"ticks\": \"\"}}, \"type\": \"parcoords\"}], \"pie\": [{\"automargin\": true, \"type\": \"pie\"}], \"scatter\": [{\"marker\": {\"colorbar\": {\"outlinewidth\": 0, \"ticks\": \"\"}}, \"type\": \"scatter\"}], \"scatter3d\": [{\"line\": {\"colorbar\": {\"outlinewidth\": 0, \"ticks\": \"\"}}, \"marker\": {\"colorbar\": {\"outlinewidth\": 0, \"ticks\": \"\"}}, \"type\": \"scatter3d\"}], \"scattercarpet\": [{\"marker\": {\"colorbar\": {\"outlinewidth\": 0, \"ticks\": \"\"}}, \"type\": \"scattercarpet\"}], \"scattergeo\": [{\"marker\": {\"colorbar\": {\"outlinewidth\": 0, \"ticks\": \"\"}}, \"type\": \"scattergeo\"}], \"scattergl\": [{\"marker\": {\"colorbar\": {\"outlinewidth\": 0, \"ticks\": \"\"}}, \"type\": \"scattergl\"}], \"scattermapbox\": [{\"marker\": {\"colorbar\": {\"outlinewidth\": 0, \"ticks\": \"\"}}, \"type\": \"scattermapbox\"}], \"scatterpolar\": [{\"marker\": {\"colorbar\": {\"outlinewidth\": 0, \"ticks\": \"\"}}, \"type\": \"scatterpolar\"}], \"scatterpolargl\": [{\"marker\": {\"colorbar\": {\"outlinewidth\": 0, \"ticks\": \"\"}}, \"type\": \"scatterpolargl\"}], \"scatterternary\": [{\"marker\": {\"colorbar\": {\"outlinewidth\": 0, \"ticks\": \"\"}}, \"type\": \"scatterternary\"}], \"surface\": [{\"colorbar\": {\"outlinewidth\": 0, \"ticks\": \"\"}, \"colorscale\": [[0.0, \"#0d0887\"], [0.1111111111111111, \"#46039f\"], [0.2222222222222222, \"#7201a8\"], [0.3333333333333333, \"#9c179e\"], [0.4444444444444444, \"#bd3786\"], [0.5555555555555556, \"#d8576b\"], [0.6666666666666666, \"#ed7953\"], [0.7777777777777778, \"#fb9f3a\"], [0.8888888888888888, \"#fdca26\"], [1.0, \"#f0f921\"]], \"type\": \"surface\"}], \"table\": [{\"cells\": {\"fill\": {\"color\": \"#EBF0F8\"}, \"line\": {\"color\": \"white\"}}, \"header\": {\"fill\": {\"color\": \"#C8D4E3\"}, \"line\": {\"color\": \"white\"}}, \"type\": \"table\"}]}, \"layout\": {\"annotationdefaults\": {\"arrowcolor\": \"#2a3f5f\", \"arrowhead\": 0, \"arrowwidth\": 1}, \"coloraxis\": {\"colorbar\": {\"outlinewidth\": 0, \"ticks\": \"\"}}, \"colorscale\": {\"diverging\": [[0, \"#8e0152\"], [0.1, \"#c51b7d\"], [0.2, \"#de77ae\"], [0.3, \"#f1b6da\"], [0.4, \"#fde0ef\"], [0.5, \"#f7f7f7\"], [0.6, \"#e6f5d0\"], [0.7, \"#b8e186\"], [0.8, \"#7fbc41\"], [0.9, \"#4d9221\"], [1, \"#276419\"]], \"sequential\": [[0.0, \"#0d0887\"], [0.1111111111111111, \"#46039f\"], [0.2222222222222222, \"#7201a8\"], [0.3333333333333333, \"#9c179e\"], [0.4444444444444444, \"#bd3786\"], [0.5555555555555556, \"#d8576b\"], [0.6666666666666666, \"#ed7953\"], [0.7777777777777778, \"#fb9f3a\"], [0.8888888888888888, \"#fdca26\"], [1.0, \"#f0f921\"]], \"sequentialminus\": [[0.0, \"#0d0887\"], [0.1111111111111111, \"#46039f\"], [0.2222222222222222, \"#7201a8\"], [0.3333333333333333, \"#9c179e\"], [0.4444444444444444, \"#bd3786\"], [0.5555555555555556, \"#d8576b\"], [0.6666666666666666, \"#ed7953\"], [0.7777777777777778, \"#fb9f3a\"], [0.8888888888888888, \"#fdca26\"], [1.0, \"#f0f921\"]]}, \"colorway\": [\"#636efa\", \"#EF553B\", \"#00cc96\", \"#ab63fa\", \"#FFA15A\", \"#19d3f3\", \"#FF6692\", \"#B6E880\", \"#FF97FF\", \"#FECB52\"], \"font\": {\"color\": \"#2a3f5f\"}, \"geo\": {\"bgcolor\": \"white\", \"lakecolor\": \"white\", \"landcolor\": \"#E5ECF6\", \"showlakes\": true, \"showland\": true, \"subunitcolor\": \"white\"}, \"hoverlabel\": {\"align\": \"left\"}, \"hovermode\": \"closest\", \"mapbox\": {\"style\": \"light\"}, \"paper_bgcolor\": \"white\", \"plot_bgcolor\": \"#E5ECF6\", \"polar\": {\"angularaxis\": {\"gridcolor\": \"white\", \"linecolor\": \"white\", \"ticks\": \"\"}, \"bgcolor\": \"#E5ECF6\", \"radialaxis\": {\"gridcolor\": \"white\", \"linecolor\": \"white\", \"ticks\": \"\"}}, \"scene\": {\"xaxis\": {\"backgroundcolor\": \"#E5ECF6\", \"gridcolor\": \"white\", \"gridwidth\": 2, \"linecolor\": \"white\", \"showbackground\": true, \"ticks\": \"\", \"zerolinecolor\": \"white\"}, \"yaxis\": {\"backgroundcolor\": \"#E5ECF6\", \"gridcolor\": \"white\", \"gridwidth\": 2, \"linecolor\": \"white\", \"showbackground\": true, \"ticks\": \"\", \"zerolinecolor\": \"white\"}, \"zaxis\": {\"backgroundcolor\": \"#E5ECF6\", \"gridcolor\": \"white\", \"gridwidth\": 2, \"linecolor\": \"white\", \"showbackground\": true, \"ticks\": \"\", \"zerolinecolor\": \"white\"}}, \"shapedefaults\": {\"line\": {\"color\": \"#2a3f5f\"}}, \"ternary\": {\"aaxis\": {\"gridcolor\": \"white\", \"linecolor\": \"white\", \"ticks\": \"\"}, \"baxis\": {\"gridcolor\": \"white\", \"linecolor\": \"white\", \"ticks\": \"\"}, \"bgcolor\": \"#E5ECF6\", \"caxis\": {\"gridcolor\": \"white\", \"linecolor\": \"white\", \"ticks\": \"\"}}, \"title\": {\"x\": 0.05}, \"xaxis\": {\"automargin\": true, \"gridcolor\": \"white\", \"linecolor\": \"white\", \"ticks\": \"\", \"title\": {\"standoff\": 15}, \"zerolinecolor\": \"white\", \"zerolinewidth\": 2}, \"yaxis\": {\"automargin\": true, \"gridcolor\": \"white\", \"linecolor\": \"white\", \"ticks\": \"\", \"title\": {\"standoff\": 15}, \"zerolinecolor\": \"white\", \"zerolinewidth\": 2}}}, \"xaxis\": {\"anchor\": \"y\", \"domain\": [0.0, 1.0], \"title\": {\"text\": \"Population\"}}, \"yaxis\": {\"anchor\": \"x\", \"domain\": [0.0, 1.0], \"title\": {\"text\": \"Rank\"}}},\n",
       "                        {\"responsive\": true}\n",
       "                    ).then(function(){\n",
       "                            \n",
       "var gd = document.getElementById('f0d77262-ddf3-4e1a-9b8a-de6a63e9d67e');\n",
       "var x = new MutationObserver(function (mutations, observer) {{\n",
       "        var display = window.getComputedStyle(gd).display;\n",
       "        if (!display || display === 'none') {{\n",
       "            console.log([gd, 'removed!']);\n",
       "            Plotly.purge(gd);\n",
       "            observer.disconnect();\n",
       "        }}\n",
       "}});\n",
       "\n",
       "// Listen for the removal of the full notebook cells\n",
       "var notebookContainer = gd.closest('#notebook-container');\n",
       "if (notebookContainer) {{\n",
       "    x.observe(notebookContainer, {childList: true});\n",
       "}}\n",
       "\n",
       "// Listen for the clearing of the current output cell\n",
       "var outputEl = gd.closest('.output');\n",
       "if (outputEl) {{\n",
       "    x.observe(outputEl, {childList: true});\n",
       "}}\n",
       "\n",
       "                        })\n",
       "                };\n",
       "                });\n",
       "            </script>\n",
       "        </div>"
      ]
     },
     "metadata": {},
     "output_type": "display_data"
    }
   ],
   "source": [
    "#plotting scatter plot with above data frame\n",
    "my_fig = ply.scatter(my_data_frame, x=\"Population\", y=\"Rank\", color=\"State\",\n",
    "                 size='Rank', hover_data=['Postal'])\n",
    "my_fig.show()#showing plot"
   ]
  },
  {
   "cell_type": "code",
   "execution_count": null,
   "metadata": {},
   "outputs": [],
   "source": []
  }
 ],
 "metadata": {
  "kernelspec": {
   "display_name": "Python 3",
   "language": "python",
   "name": "python3"
  },
  "language_info": {
   "codemirror_mode": {
    "name": "ipython",
    "version": 3
   },
   "file_extension": ".py",
   "mimetype": "text/x-python",
   "name": "python",
   "nbconvert_exporter": "python",
   "pygments_lexer": "ipython3",
   "version": "3.6.9"
  }
 },
 "nbformat": 4,
 "nbformat_minor": 2
}
