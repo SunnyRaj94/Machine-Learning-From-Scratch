{
 "cells": [
  {
   "cell_type": "markdown",
   "metadata": {},
   "source": [
    "# plot several lines with different format styles in one command using arrays"
   ]
  },
  {
   "cell_type": "markdown",
   "metadata": {},
   "source": [
    "problem statement:\n",
    "Write a Python program to plot several lines with different format styles in one command using arrays"
   ]
  },
  {
   "cell_type": "code",
   "execution_count": 1,
   "metadata": {},
   "outputs": [
    {
     "data": {
      "image/png": "[encoded data removed]",
      "text/plain": [
       "<Figure size 432x288 with 1 Axes>"
      ]
     },
     "metadata": {
      "needs_background": "light"
     },
     "output_type": "display_data"
    }
   ],
   "source": [
    "#importing matplotlib and numpy \n",
    "import matplotlib.pyplot as plt,numpy as np\n",
    "# line one points\n",
    "#setting x-axis values for line1\n",
    "x_axis_line = np.array([0,1,2,3,4,5,6,7,8,9])\n",
    "#setting y-axis values for line1\n",
    "y_axis_line = np.array([30,31,32,33,34,35,36,37,38,39])\n",
    "#plotting different lines in different format\n",
    "plt.plot(x_axis_line,y_axis_line,'b*',x_axis_line*3,y_axis_line,'g--',x_axis_line*5,y_axis_line*2,'bs')\n",
    "#showing the output\n",
    "plt.show()"
   ]
  },
  {
   "cell_type": "code",
   "execution_count": null,
   "metadata": {},
   "outputs": [],
   "source": []
  }
 ],
 "metadata": {
  "kernelspec": {
   "display_name": "Python 3",
   "language": "python",
   "name": "python3"
  },
  "language_info": {
   "codemirror_mode": {
    "name": "ipython",
    "version": 3
   },
   "file_extension": ".py",
   "mimetype": "text/x-python",
   "name": "python",
   "nbconvert_exporter": "python",
   "pygments_lexer": "ipython3",
   "version": "3.6.9"
  }
 },
 "nbformat": 4,
 "nbformat_minor": 2
}
