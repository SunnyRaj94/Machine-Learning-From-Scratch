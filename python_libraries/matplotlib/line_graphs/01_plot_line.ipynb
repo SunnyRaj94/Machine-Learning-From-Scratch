{
 "cells": [
  {
   "cell_type": "markdown",
   "metadata": {},
   "source": [
    "# draw a line with suitable label in the x axis, y axis and a title"
   ]
  },
  {
   "cell_type": "markdown",
   "metadata": {},
   "source": [
    "Problem Statement:\n",
    "Write a Python program to draw a line with suitable label in the x axis, y axis and a title"
   ]
  },
  {
   "cell_type": "code",
   "execution_count": 4,
   "metadata": {},
   "outputs": [
    {
     "name": "stdout",
     "output_type": "stream",
     "text": [
      "enter how many value you want to add in x-axis and y-axis6\n"
     ]
    }
   ],
   "source": [
    "#importing matplotlib\n",
    "import matplotlib.pyplot as plt\n",
    "#function to take input from user\n",
    "def input_values(size):\n",
    "    #taking x-axis and y-axis inputs\n",
    "    data=[int(input(\"enter value\")) for val in range(size)]\n",
    "    return data\n",
    "#determining the length of values\n",
    "size = int(input(\"enter how many value you want to add in x-axis and y-axis\"))"
   ]
  },
  {
   "cell_type": "code",
   "execution_count": 5,
   "metadata": {},
   "outputs": [
    {
     "name": "stdout",
     "output_type": "stream",
     "text": [
      "enter value1\n",
      "enter value2\n",
      "enter value3\n",
      "enter value4\n",
      "enter value5\n",
      "enter value6\n",
      "enter value9\n",
      "enter value8\n",
      "enter value7\n",
      "enter value6\n",
      "enter value5\n",
      "enter value4\n"
     ]
    }
   ],
   "source": [
    "#taking input from user for both axis\n",
    "x_axix_data = input_values(size)\n",
    "y_axis_data = input_values(size)"
   ]
  },
  {
   "cell_type": "code",
   "execution_count": 6,
   "metadata": {},
   "outputs": [
    {
     "data": {
      "text/plain": [
       "[<matplotlib.lines.Line2D at 0x7f2a60597518>]"
      ]
     },
     "execution_count": 6,
     "metadata": {},
     "output_type": "execute_result"
    },
    {
     "data": {
      "image/png": "[encoded data removed]",
      "text/plain": [
       "<Figure size 432x288 with 1 Axes>"
      ]
     },
     "metadata": {
      "needs_background": "light"
     },
     "output_type": "display_data"
    }
   ],
   "source": [
    "# giving both axix a label\n",
    "plt.xlabel('this is data on my x axis')\n",
    "# Set the y axis label of the current axis.\n",
    "plt.ylabel('this is data on my y axis')\n",
    "#giving it a proper label\n",
    "plt.title('plot my awesome graph.')\n",
    "#plotting graph from given values\n",
    "plt.plot(x_axix_data,y_axis_data)"
   ]
  },
  {
   "cell_type": "code",
   "execution_count": null,
   "metadata": {},
   "outputs": [],
   "source": []
  }
 ],
 "metadata": {
  "kernelspec": {
   "display_name": "Python 3",
   "language": "python",
   "name": "python3"
  },
  "language_info": {
   "codemirror_mode": {
    "name": "ipython",
    "version": 3
   },
   "file_extension": ".py",
   "mimetype": "text/x-python",
   "name": "python",
   "nbconvert_exporter": "python",
   "pygments_lexer": "ipython3",
   "version": "3.6.9"
  }
 },
 "nbformat": 4,
 "nbformat_minor": 2
}
