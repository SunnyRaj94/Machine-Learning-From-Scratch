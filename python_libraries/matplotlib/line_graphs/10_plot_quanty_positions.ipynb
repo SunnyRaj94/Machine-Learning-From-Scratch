{
 "cells": [
  {
   "cell_type": "markdown",
   "metadata": {},
   "source": [
    "# plot quantities which have an x and y position "
   ]
  },
  {
   "cell_type": "markdown",
   "metadata": {},
   "source": [
    "problem statement:\n",
    "Write a Python program to plot quantities which have an x and y position"
   ]
  },
  {
   "cell_type": "code",
   "execution_count": 1,
   "metadata": {},
   "outputs": [
    {
     "data": {
      "image/png": "[encoded data removed]",
      "text/plain": [
       "<Figure size 432x288 with 1 Axes>"
      ]
     },
     "metadata": {
      "needs_background": "light"
     },
     "output_type": "display_data"
    }
   ],
   "source": [
    "#importing matplotlib\n",
    "import matplotlib.pyplot as plt\n",
    "# line one points\n",
    "#setting x-axis values\n",
    "x_axis_line = [10,20,30,70,80,90]\n",
    "#setting y-axis values\n",
    "y_axis_line = [20,40,10,23,22,12]\n",
    "# plotting the line points\n",
    "plt.plot(x_axis_line, y_axis_line,'b*')\n",
    "#giving title to graph\n",
    "plt.title(\"my awesome line\")\n",
    "#setting x axis label\n",
    "plt.xlabel('x - axis')\n",
    "# Set the y axis label\n",
    "plt.ylabel('y - axis')\n",
    "# Display a figure.\n",
    "plt.show()"
   ]
  },
  {
   "cell_type": "code",
   "execution_count": null,
   "metadata": {},
   "outputs": [],
   "source": []
  }
 ],
 "metadata": {
  "kernelspec": {
   "display_name": "Python 3",
   "language": "python",
   "name": "python3"
  },
  "language_info": {
   "codemirror_mode": {
    "name": "ipython",
    "version": 3
   },
   "file_extension": ".py",
   "mimetype": "text/x-python",
   "name": "python",
   "nbconvert_exporter": "python",
   "pygments_lexer": "ipython3",
   "version": "3.6.9"
  }
 },
 "nbformat": 4,
 "nbformat_minor": 2
}
