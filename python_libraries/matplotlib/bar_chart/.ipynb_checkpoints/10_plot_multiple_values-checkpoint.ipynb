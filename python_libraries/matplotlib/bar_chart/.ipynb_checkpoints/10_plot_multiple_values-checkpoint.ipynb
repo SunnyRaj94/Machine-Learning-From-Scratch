{
 "cells": [
  {
   "cell_type": "markdown",
   "metadata": {},
   "source": [
    "# create bar plot by multiple X values on the same chart"
   ]
  },
  {
   "cell_type": "markdown",
   "metadata": {},
   "source": [
    "Problem Statement:\n",
    "Write a Python program to create bar plot of scores by group and gender. Use multiple X values on the same chart for men and women"
   ]
  },
  {
   "cell_type": "code",
   "execution_count": 10,
   "metadata": {},
   "outputs": [
    {
     "data": {
      "image/png": "[encoded data removed]",
      "text/plain": [
       "<Figure size 432x288 with 1 Axes>"
      ]
     },
     "metadata": {
      "needs_background": "light"
     },
     "output_type": "display_data"
    }
   ],
   "source": [
    "#importing matplotlib\n",
    "import matplotlib.pyplot as plt,numpy as np\n",
    "#initializing x-axis and y-axis \n",
    "#means of all men\n",
    "men_means = [22,30,35,35,26]\n",
    "#means of all women\n",
    "women_means = [25,32,30,35,29]\n",
    "#generating index value\n",
    "index = np.arange(5)\n",
    "#initializing bar width\n",
    "bar_width = 0.35\n",
    "#generating seperation between lines\n",
    "opacity = 0.8\n",
    "#plotting graph of men\n",
    "men_bar_plot = plt.bar(index, men_means, bar_width,alpha=opacity,color='g',label='Men')\n",
    "#plotting graph of women\n",
    "women_bar_plot= plt.bar(index + bar_width, women_means, bar_width,alpha=opacity,color='r',label='Women')\n",
    "#initailizing legend\n",
    "plt.legend()\n",
    "plt.xlabel('mean values of person')\n",
    "#showing the graph\n",
    "plt.show()"
   ]
  },
  {
   "cell_type": "code",
   "execution_count": null,
   "metadata": {},
   "outputs": [],
   "source": []
  }
 ],
 "metadata": {
  "kernelspec": {
   "display_name": "Python 3",
   "language": "python",
   "name": "python3"
  },
  "language_info": {
   "codemirror_mode": {
    "name": "ipython",
    "version": 3
   },
   "file_extension": ".py",
   "mimetype": "text/x-python",
   "name": "python",
   "nbconvert_exporter": "python",
   "pygments_lexer": "ipython3",
   "version": "3.6.9"
  }
 },
 "nbformat": 4,
 "nbformat_minor": 2
}
