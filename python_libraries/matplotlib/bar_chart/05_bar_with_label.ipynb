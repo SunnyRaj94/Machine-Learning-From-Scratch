{
 "cells": [
  {
   "cell_type": "markdown",
   "metadata": {},
   "source": [
    "# display a bar chart,Attach a text label above each bar displaying its popularity "
   ]
  },
  {
   "cell_type": "markdown",
   "metadata": {},
   "source": [
    "problem statement:\n",
    "Write a Python programming to display a bar chart of the popularity of programming Languages. Attach a text label above each bar displaying its popularity (float value)"
   ]
  },
  {
   "cell_type": "code",
   "execution_count": 2,
   "metadata": {},
   "outputs": [
    {
     "data": {
      "image/png": "[encoded data removed]",
      "text/plain": [
       "<Figure size 432x288 with 1 Axes>"
      ]
     },
     "metadata": {
      "needs_background": "light"
     },
     "output_type": "display_data"
    }
   ],
   "source": [
    "#importing matplotlib\n",
    "import matplotlib.pyplot as plt\n",
    "#initializing x and y axis sample data\n",
    "programming_languages=['Java','Python','PHP','JavaScript','C#','C++']\n",
    "popularity=[22.2,17.6,8.8,8,7.7,6.7]\n",
    "#developing a bar chart\n",
    "plt.bar(programming_languages,popularity)\n",
    "#adding text to position in bar chart\n",
    "for counter in range(len(programming_languages)):\n",
    "            plt.text(counter,  # x axis \n",
    "                     popularity[counter] + 0.2,  # height where to put it\n",
    "                     popularity[counter],  # number to be printed\n",
    "                     ha='center')  # the horizontal \n",
    "plt.show()"
   ]
  },
  {
   "cell_type": "code",
   "execution_count": null,
   "metadata": {},
   "outputs": [],
   "source": []
  }
 ],
 "metadata": {
  "kernelspec": {
   "display_name": "Python 3",
   "language": "python",
   "name": "python3"
  },
  "language_info": {
   "codemirror_mode": {
    "name": "ipython",
    "version": 3
   },
   "file_extension": ".py",
   "mimetype": "text/x-python",
   "name": "python",
   "nbconvert_exporter": "python",
   "pygments_lexer": "ipython3",
   "version": "3.6.9"
  }
 },
 "nbformat": 4,
 "nbformat_minor": 2
}
