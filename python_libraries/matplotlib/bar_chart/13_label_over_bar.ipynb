{
 "cells": [
  {
   "cell_type": "markdown",
   "metadata": {},
   "source": [
    "# create bar plots with errorbars ,attach a text label above each bar displaying men means (integer value)"
   ]
  },
  {
   "cell_type": "markdown",
   "metadata": {},
   "source": [
    "problem statement:\n",
    "Write a Python program to create bar plots with errorbars on the same figure. Attach a text label above each bar displaying men means (integer value)"
   ]
  },
  {
   "cell_type": "code",
   "execution_count": 3,
   "metadata": {},
   "outputs": [
    {
     "data": {
      "image/png": "[encoded data removed]",
      "text/plain": [
       "<Figure size 432x288 with 1 Axes>"
      ]
     },
     "metadata": {
      "needs_background": "light"
     },
     "output_type": "display_data"
    }
   ],
   "source": [
    "#importing matplotlib and numpy\n",
    "import matplotlib.pyplot as plt  \n",
    "import numpy as np\n",
    "#data given in question of mean velocity\n",
    "mean_velocity = np.array([0.2474, 0.1235, 0.1737, 0.1824])\n",
    "#data given in question of standard deviation\n",
    "std_deviation = np.array([0.3314, 0.2278, 0.2836, 0.2645])\n",
    "#generating x labels index\n",
    "index =np.array([1.0,2.0,3.0,4.0])\n",
    "figures = plt.subplot()\n",
    "#plooting bar with data\n",
    "figures.bar(index,mean_velocity,yerr=std_deviation)\n",
    "#looping to print text\n",
    "for counter in range(len(std_deviation)):\n",
    "            figures.text(index[counter],  # x axis \n",
    "                     std_deviation[counter] + 0.01,  # height where to put it\n",
    "                     std_deviation[counter],  # number to be printed\n",
    "                     ha='center')  # the horizontal \n",
    "#generating the output\n",
    "plt.show()"
   ]
  },
  {
   "cell_type": "code",
   "execution_count": null,
   "metadata": {},
   "outputs": [],
   "source": []
  }
 ],
 "metadata": {
  "kernelspec": {
   "display_name": "Python 3",
   "language": "python",
   "name": "python3"
  },
  "language_info": {
   "codemirror_mode": {
    "name": "ipython",
    "version": 3
   },
   "file_extension": ".py",
   "mimetype": "text/x-python",
   "name": "python",
   "nbconvert_exporter": "python",
   "pygments_lexer": "ipython3",
   "version": "3.6.9"
  }
 },
 "nbformat": 4,
 "nbformat_minor": 2
}
