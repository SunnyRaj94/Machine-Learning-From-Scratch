{
 "cells": [
  {
   "cell_type": "markdown",
   "metadata": {},
   "source": [
    "# display a horizontal bar chart"
   ]
  },
  {
   "cell_type": "markdown",
   "metadata": {},
   "source": [
    "problem statement:\n",
    "Write a Python programming to display a horizontal bar chart of the popularity of programming Languages"
   ]
  },
  {
   "cell_type": "code",
   "execution_count": 1,
   "metadata": {},
   "outputs": [
    {
     "data": {
      "image/png": "[encoded data removed]",
      "text/plain": [
       "<Figure size 432x288 with 1 Axes>"
      ]
     },
     "metadata": {
      "needs_background": "light"
     },
     "output_type": "display_data"
    }
   ],
   "source": [
    "#importing matplotlib\n",
    "import matplotlib.pyplot as plt\n",
    "#initializing x and y axis sample data\n",
    "programming_languages=['Java','Python','PHP','JavaScript','C#','C++']\n",
    "popularity=[22.2,17.6,8.8,8,7.7,6.7]\n",
    "#plotting bar by above data horizontally\n",
    "plt.barh(programming_languages,popularity)\n",
    "#showing the output\n",
    "plt.show()"
   ]
  },
  {
   "cell_type": "code",
   "execution_count": null,
   "metadata": {},
   "outputs": [],
   "source": []
  }
 ],
 "metadata": {
  "kernelspec": {
   "display_name": "Python 3",
   "language": "python",
   "name": "python3"
  },
  "language_info": {
   "codemirror_mode": {
    "name": "ipython",
    "version": 3
   },
   "file_extension": ".py",
   "mimetype": "text/x-python",
   "name": "python",
   "nbconvert_exporter": "python",
   "pygments_lexer": "ipython3",
   "version": "3.6.9"
  }
 },
 "nbformat": 4,
 "nbformat_minor": 2
}
