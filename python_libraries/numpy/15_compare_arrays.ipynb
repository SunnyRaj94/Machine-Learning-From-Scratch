{
 "cells": [
  {
   "cell_type": "markdown",
   "metadata": {},
   "source": [
    "# program compare two arrays"
   ]
  },
  {
   "cell_type": "code",
   "execution_count": 4,
   "metadata": {},
   "outputs": [],
   "source": [
    "#importing numpy \n",
    "import numpy as np\n",
    "#creating a demo array\n",
    "my_array_one =np.array([2,3,4,5,6,7])\n",
    "#initiallizing second array\n",
    "my_array_two=np.array([2,5,8,9,3,19])"
   ]
  },
  {
   "cell_type": "code",
   "execution_count": 7,
   "metadata": {},
   "outputs": [
    {
     "name": "stdout",
     "output_type": "stream",
     "text": [
      "[False False False False  True False]\n",
      "[ True False False False  True False]\n",
      "[False  True  True  True False  True]\n",
      "[ True  True  True  True False  True]\n"
     ]
    }
   ],
   "source": [
    "#comparing greater first array with second array\n",
    "print(np.greater(my_array_one,my_array_two))\n",
    "#checking for greater or equal between both array elements\n",
    "print(np.greater_equal(my_array_one,my_array_two))\n",
    "#checking for lesser condition between both array elements\n",
    "print(np.less(my_array_one,my_array_two))\n",
    "#checking for lesser or equal between both array elements\n",
    "print(np.less_equal(my_array_one,my_array_two))"
   ]
  },
  {
   "cell_type": "code",
   "execution_count": null,
   "metadata": {},
   "outputs": [],
   "source": []
  }
 ],
 "metadata": {
  "kernelspec": {
   "display_name": "Python 3",
   "language": "python",
   "name": "python3"
  },
  "language_info": {
   "codemirror_mode": {
    "name": "ipython",
    "version": 3
   },
   "file_extension": ".py",
   "mimetype": "text/x-python",
   "name": "python",
   "nbconvert_exporter": "python",
   "pygments_lexer": "ipython3",
   "version": "3.6.9"
  }
 },
 "nbformat": 4,
 "nbformat_minor": 2
}
